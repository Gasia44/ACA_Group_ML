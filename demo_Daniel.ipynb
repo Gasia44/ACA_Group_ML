{
 "cells": [
  {
   "cell_type": "code",
   "execution_count": 3,
   "metadata": {
    "collapsed": false
   },
   "outputs": [
    {
     "name": "stdout",
     "output_type": "stream",
     "text": [
      "[[ 59.  52.  70.  67.  73.  66.  72.  61.  58.  52.  72.  71.  70.  77.\n",
      "   66.  65.  67.  55.  61.  57.  68.  66.  72.  74.  63.  64.  56.  54.\n",
      "   67.  54.  76.  74.  65.  67.  66.  56.  62.  56.  72.  62.  74.  74.\n",
      "   64.  67.]\n",
      " [ 72.  62.  69.  67.  78.  82.  74.  65.  69.  63.  70.  70.  72.  74.\n",
      "   70.  71.  72.  75.  66.  65.  73.  78.  74.  79.  74.  69.  69.  70.\n",
      "   71.  69.  72.  70.  62.  65.  65.  71.  63.  60.  69.  73.  67.  71.\n",
      "   56.  58.]\n",
      " [ 71.  62.  70.  64.  67.  64.  79.  65.  70.  69.  72.  71.  68.  65.\n",
      "   61.  61.  73.  71.  75.  74.  80.  74.  54.  47.  53.  37.  77.  68.\n",
      "   72.  59.  72.  68.  60.  60.  73.  70.  66.  65.  64.  55.  61.  41.\n",
      "   51.  46.]\n",
      " [ 69.  71.  70.  78.  61.  63.  67.  65.  59.  59.  66.  69.  71.  75.\n",
      "   65.  58.  60.  55.  62.  59.  67.  66.  74.  74.  64.  60.  57.  54.\n",
      "   70.  73.  69.  76.  62.  64.  61.  61.  66.  65.  72.  73.  68.  68.\n",
      "   59.  63.]\n",
      " [ 70.  66.  61.  66.  61.  58.  69.  69.  72.  68.  62.  71.  71.  71.\n",
      "   63.  59.  74.  75.  70.  69.  83.  77.  73.  70.  41.  37.  39.  40.\n",
      "   58.  46.  75.  73.  65.  66.  67.  69.  70.  66.  70.  64.  60.  55.\n",
      "   49.  41.]]\n",
      "[[ 1.]\n",
      " [ 1.]\n",
      " [ 1.]\n",
      " [ 1.]\n",
      " [ 1.]]\n",
      "Logistic Reg. Accuracy =  75.5555555556  ( 12.0811158743 )\n"
     ]
    }
   ],
   "source": [
    "import numpy as np\n",
    "import matplotlib.pyplot as plt\n",
    "import random\n",
    "\n",
    "from decision_tree import DecisionTree\n",
    "from logistic_regression import gradient_descent\n",
    "from random_forest import RandomForest\n",
    "\n",
    "\n",
    "def accuracy_score(Y_true, Y_predict):\n",
    "    error=0\n",
    "    for i in range(len(Y_predict)):\n",
    "        if Y_true[i] != Y_predict[i]:\n",
    "            error = error + 1\n",
    "    error= error*100/len(Y_predict)\n",
    "    return 100-error\n",
    "\n",
    "\n",
    "def evaluate_performance():\n",
    "    # Load Data\n",
    "    filename = 'SPECTF.dat'\n",
    "    data = np.loadtxt(filename, delimiter=',')\n",
    "    X = data[:, 1:]\n",
    "    y = np.array([data[:, 0]]).T\n",
    "    n, d = X.shape\n",
    "    print(X[:5])\n",
    "    print(y[:5])\n",
    "    all_accuracies=[]\n",
    "    all_log_accuracies=[]\n",
    "    all_rand_accuracies=[]\n",
    "    for trial in range(10):\n",
    "   \n",
    "        #divide data to train and test\n",
    "        select = list(range(n))\n",
    "        random.shuffle(select)\n",
    "        select_train = np.array(select[0:int(9*n / 10)])\n",
    "        select_test = np.array(select[int(9*n / 10):n])\n",
    "\n",
    "        data_train = data[select_train, :]\n",
    "        data_test = data[select_test, :]\n",
    "        \n",
    "        data_train_Y=data_train[:,0]\n",
    "        data_train_X=data_train[:,1:data_train.shape[1]]\n",
    "\n",
    "        data_test_Y=data_test[:,0]\n",
    "        data_test_X=data_test[:,1:data_test.shape[1]]\n",
    "             \n",
    "        beta=gradient_descent(data_train_X,data_train_Y,1, l=1, step_size=10, max_steps=10)\n",
    "        Y_log_pred=[]\n",
    "        for i in range(data_test_X.shape[0]):\n",
    "            if data_test_X[i].T.dot(beta)>0:\n",
    "                Y_log_pred.append(1)\n",
    "            else:\n",
    "                Y_log_pred.append(0)\n",
    "        log_accuracy=accuracy_score(data_test_Y, Y_log_pred)\n",
    "        all_log_accuracies.append(log_accuracy)\n",
    "        \n",
    "    meanLogisticRegressionAccuracy = np.mean(all_log_accuracies)\n",
    "    stddevLogisticRegressionAccuracy = np.std(all_log_accuracies)\n",
    "\n",
    "\n",
    "    stats = np.zeros((3, 2))\n",
    "    stats[2, 0] = meanLogisticRegressionAccuracy\n",
    "    stats[2, 1] = stddevLogisticRegressionAccuracy\n",
    "    return stats\n",
    "\n",
    "\n",
    "# Do not modify from HERE...\n",
    "if __name__ == \"__main__\":\n",
    "    stats = evaluate_performance()\n",
    "    print(\"Logistic Reg. Accuracy = \", stats[2, 0], \" (\", stats[2, 1], \")\")\n",
    "\n"
   ]
  },
  {
   "cell_type": "code",
   "execution_count": null,
   "metadata": {
    "collapsed": true
   },
   "outputs": [],
   "source": []
  }
 ],
 "metadata": {
  "kernelspec": {
   "display_name": "Python 3",
   "language": "python",
   "name": "python3"
  },
  "language_info": {
   "codemirror_mode": {
    "name": "ipython",
    "version": 3
   },
   "file_extension": ".py",
   "mimetype": "text/x-python",
   "name": "python",
   "nbconvert_exporter": "python",
   "pygments_lexer": "ipython3",
   "version": "3.6.0"
  }
 },
 "nbformat": 4,
 "nbformat_minor": 2
}
