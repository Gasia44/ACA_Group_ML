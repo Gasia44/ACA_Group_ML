{
 "cells": [
  {
   "cell_type": "markdown",
   "metadata": {},
   "source": [
    "# Setup"
   ]
  },
  {
   "cell_type": "code",
   "execution_count": 1,
   "metadata": {
    "collapsed": false
   },
   "outputs": [],
   "source": [
    "import matplotlib.pyplot as plt\n",
    "%matplotlib inline\n",
    "import numpy as np\n",
    "import pandas as pd\n",
    "import statsmodels.api as sm\n",
    "from statsmodels.nonparametric.kde import KDEUnivariate\n",
    "from statsmodels.nonparametric import smoothers_lowess\n",
    "from pandas import Series, DataFrame\n",
    "from patsy import dmatrices\n",
    "from sklearn import datasets, svm"
   ]
  },
  {
   "cell_type": "code",
   "execution_count": 2,
   "metadata": {
    "collapsed": false
   },
   "outputs": [],
   "source": [
    "from csv_utils import read_csv"
   ]
  },
  {
   "cell_type": "markdown",
   "metadata": {},
   "source": [
    "# Data"
   ]
  },
  {
   "cell_type": "code",
   "execution_count": 3,
   "metadata": {
    "collapsed": false
   },
   "outputs": [],
   "source": [
    "#df  =pd.read_csv( \"SPECTF.dat\", header= None)\n",
    "df = read_csv( \"SPECTF.dat\", header= None)    ##my read_csv"
   ]
  },
  {
   "cell_type": "markdown",
   "metadata": {},
   "source": [
    "# Analyse"
   ]
  },
  {
   "cell_type": "code",
   "execution_count": 4,
   "metadata": {
    "collapsed": false
   },
   "outputs": [
    {
     "data": {
      "text/plain": [
       "(267, 45)"
      ]
     },
     "execution_count": 4,
     "metadata": {},
     "output_type": "execute_result"
    }
   ],
   "source": [
    "df.shape"
   ]
  },
  {
   "cell_type": "code",
   "execution_count": 5,
   "metadata": {
    "collapsed": false
   },
   "outputs": [
    {
     "data": {
      "text/plain": [
       "0      0\n",
       "1     64\n",
       "2     66\n",
       "3     68\n",
       "4     71\n",
       "5     62\n",
       "6     64\n",
       "7     74\n",
       "8     73\n",
       "9     63\n",
       "10    67\n",
       "11    66\n",
       "12    74\n",
       "13    70\n",
       "14    74\n",
       "15    59\n",
       "16    64\n",
       "17    75\n",
       "18    73\n",
       "19    70\n",
       "20    66\n",
       "21    79\n",
       "22    81\n",
       "23    79\n",
       "24    78\n",
       "25    61\n",
       "26    62\n",
       "27    76\n",
       "28    72\n",
       "29    67\n",
       "30    67\n",
       "31    71\n",
       "32    75\n",
       "33    65\n",
       "34    62\n",
       "35    70\n",
       "36    69\n",
       "37    68\n",
       "38    65\n",
       "39    75\n",
       "40    72\n",
       "41    62\n",
       "42    64\n",
       "43    57\n",
       "44    54\n",
       "Name: 266, dtype: object"
      ]
     },
     "execution_count": 5,
     "metadata": {},
     "output_type": "execute_result"
    }
   ],
   "source": [
    "df.iloc[266,]"
   ]
  },
  {
   "cell_type": "code",
   "execution_count": 6,
   "metadata": {
    "collapsed": false
   },
   "outputs": [
    {
     "data": {
      "text/html": [
       "<div>\n",
       "<table border=\"1\" class=\"dataframe\">\n",
       "  <thead>\n",
       "    <tr style=\"text-align: right;\">\n",
       "      <th></th>\n",
       "      <th>0</th>\n",
       "      <th>1</th>\n",
       "      <th>2</th>\n",
       "      <th>3</th>\n",
       "      <th>4</th>\n",
       "      <th>5</th>\n",
       "      <th>6</th>\n",
       "      <th>7</th>\n",
       "      <th>8</th>\n",
       "      <th>9</th>\n",
       "      <th>...</th>\n",
       "      <th>35</th>\n",
       "      <th>36</th>\n",
       "      <th>37</th>\n",
       "      <th>38</th>\n",
       "      <th>39</th>\n",
       "      <th>40</th>\n",
       "      <th>41</th>\n",
       "      <th>42</th>\n",
       "      <th>43</th>\n",
       "      <th>44</th>\n",
       "    </tr>\n",
       "  </thead>\n",
       "  <tbody>\n",
       "    <tr>\n",
       "      <th>0</th>\n",
       "      <td>1</td>\n",
       "      <td>59</td>\n",
       "      <td>52</td>\n",
       "      <td>70</td>\n",
       "      <td>67</td>\n",
       "      <td>73</td>\n",
       "      <td>66</td>\n",
       "      <td>72</td>\n",
       "      <td>61</td>\n",
       "      <td>58</td>\n",
       "      <td>...</td>\n",
       "      <td>66</td>\n",
       "      <td>56</td>\n",
       "      <td>62</td>\n",
       "      <td>56</td>\n",
       "      <td>72</td>\n",
       "      <td>62</td>\n",
       "      <td>74</td>\n",
       "      <td>74</td>\n",
       "      <td>64</td>\n",
       "      <td>67</td>\n",
       "    </tr>\n",
       "    <tr>\n",
       "      <th>1</th>\n",
       "      <td>1</td>\n",
       "      <td>72</td>\n",
       "      <td>62</td>\n",
       "      <td>69</td>\n",
       "      <td>67</td>\n",
       "      <td>78</td>\n",
       "      <td>82</td>\n",
       "      <td>74</td>\n",
       "      <td>65</td>\n",
       "      <td>69</td>\n",
       "      <td>...</td>\n",
       "      <td>65</td>\n",
       "      <td>71</td>\n",
       "      <td>63</td>\n",
       "      <td>60</td>\n",
       "      <td>69</td>\n",
       "      <td>73</td>\n",
       "      <td>67</td>\n",
       "      <td>71</td>\n",
       "      <td>56</td>\n",
       "      <td>58</td>\n",
       "    </tr>\n",
       "    <tr>\n",
       "      <th>2</th>\n",
       "      <td>1</td>\n",
       "      <td>71</td>\n",
       "      <td>62</td>\n",
       "      <td>70</td>\n",
       "      <td>64</td>\n",
       "      <td>67</td>\n",
       "      <td>64</td>\n",
       "      <td>79</td>\n",
       "      <td>65</td>\n",
       "      <td>70</td>\n",
       "      <td>...</td>\n",
       "      <td>73</td>\n",
       "      <td>70</td>\n",
       "      <td>66</td>\n",
       "      <td>65</td>\n",
       "      <td>64</td>\n",
       "      <td>55</td>\n",
       "      <td>61</td>\n",
       "      <td>41</td>\n",
       "      <td>51</td>\n",
       "      <td>46</td>\n",
       "    </tr>\n",
       "    <tr>\n",
       "      <th>3</th>\n",
       "      <td>1</td>\n",
       "      <td>69</td>\n",
       "      <td>71</td>\n",
       "      <td>70</td>\n",
       "      <td>78</td>\n",
       "      <td>61</td>\n",
       "      <td>63</td>\n",
       "      <td>67</td>\n",
       "      <td>65</td>\n",
       "      <td>59</td>\n",
       "      <td>...</td>\n",
       "      <td>61</td>\n",
       "      <td>61</td>\n",
       "      <td>66</td>\n",
       "      <td>65</td>\n",
       "      <td>72</td>\n",
       "      <td>73</td>\n",
       "      <td>68</td>\n",
       "      <td>68</td>\n",
       "      <td>59</td>\n",
       "      <td>63</td>\n",
       "    </tr>\n",
       "    <tr>\n",
       "      <th>4</th>\n",
       "      <td>1</td>\n",
       "      <td>70</td>\n",
       "      <td>66</td>\n",
       "      <td>61</td>\n",
       "      <td>66</td>\n",
       "      <td>61</td>\n",
       "      <td>58</td>\n",
       "      <td>69</td>\n",
       "      <td>69</td>\n",
       "      <td>72</td>\n",
       "      <td>...</td>\n",
       "      <td>67</td>\n",
       "      <td>69</td>\n",
       "      <td>70</td>\n",
       "      <td>66</td>\n",
       "      <td>70</td>\n",
       "      <td>64</td>\n",
       "      <td>60</td>\n",
       "      <td>55</td>\n",
       "      <td>49</td>\n",
       "      <td>41</td>\n",
       "    </tr>\n",
       "  </tbody>\n",
       "</table>\n",
       "<p>5 rows × 45 columns</p>\n",
       "</div>"
      ],
      "text/plain": [
       "  0   1   2   3   4   5   6   7   8   9  ...  35  36  37  38  39  40  41  42  \\\n",
       "0  1  59  52  70  67  73  66  72  61  58 ...  66  56  62  56  72  62  74  74   \n",
       "1  1  72  62  69  67  78  82  74  65  69 ...  65  71  63  60  69  73  67  71   \n",
       "2  1  71  62  70  64  67  64  79  65  70 ...  73  70  66  65  64  55  61  41   \n",
       "3  1  69  71  70  78  61  63  67  65  59 ...  61  61  66  65  72  73  68  68   \n",
       "4  1  70  66  61  66  61  58  69  69  72 ...  67  69  70  66  70  64  60  55   \n",
       "\n",
       "   43  44  \n",
       "0  64  67  \n",
       "1  56  58  \n",
       "2  51  46  \n",
       "3  59  63  \n",
       "4  49  41  \n",
       "\n",
       "[5 rows x 45 columns]"
      ]
     },
     "execution_count": 6,
     "metadata": {},
     "output_type": "execute_result"
    }
   ],
   "source": [
    "df.head()"
   ]
  },
  {
   "cell_type": "code",
   "execution_count": 7,
   "metadata": {
    "collapsed": false
   },
   "outputs": [
    {
     "data": {
      "text/html": [
       "<div>\n",
       "<table border=\"1\" class=\"dataframe\">\n",
       "  <thead>\n",
       "    <tr style=\"text-align: right;\">\n",
       "      <th></th>\n",
       "      <th>0</th>\n",
       "      <th>1</th>\n",
       "      <th>2</th>\n",
       "      <th>3</th>\n",
       "      <th>4</th>\n",
       "      <th>5</th>\n",
       "      <th>6</th>\n",
       "      <th>7</th>\n",
       "      <th>8</th>\n",
       "      <th>9</th>\n",
       "      <th>...</th>\n",
       "      <th>35</th>\n",
       "      <th>36</th>\n",
       "      <th>37</th>\n",
       "      <th>38</th>\n",
       "      <th>39</th>\n",
       "      <th>40</th>\n",
       "      <th>41</th>\n",
       "      <th>42</th>\n",
       "      <th>43</th>\n",
       "      <th>44</th>\n",
       "    </tr>\n",
       "  </thead>\n",
       "  <tbody>\n",
       "    <tr>\n",
       "      <th>count</th>\n",
       "      <td>267</td>\n",
       "      <td>267</td>\n",
       "      <td>267</td>\n",
       "      <td>267</td>\n",
       "      <td>267</td>\n",
       "      <td>267</td>\n",
       "      <td>267</td>\n",
       "      <td>267</td>\n",
       "      <td>267</td>\n",
       "      <td>267</td>\n",
       "      <td>...</td>\n",
       "      <td>267</td>\n",
       "      <td>267</td>\n",
       "      <td>267</td>\n",
       "      <td>267</td>\n",
       "      <td>267</td>\n",
       "      <td>267</td>\n",
       "      <td>267</td>\n",
       "      <td>267</td>\n",
       "      <td>267</td>\n",
       "      <td>267</td>\n",
       "    </tr>\n",
       "    <tr>\n",
       "      <th>unique</th>\n",
       "      <td>2</td>\n",
       "      <td>39</td>\n",
       "      <td>43</td>\n",
       "      <td>34</td>\n",
       "      <td>40</td>\n",
       "      <td>44</td>\n",
       "      <td>44</td>\n",
       "      <td>37</td>\n",
       "      <td>42</td>\n",
       "      <td>37</td>\n",
       "      <td>...</td>\n",
       "      <td>36</td>\n",
       "      <td>44</td>\n",
       "      <td>37</td>\n",
       "      <td>40</td>\n",
       "      <td>51</td>\n",
       "      <td>50</td>\n",
       "      <td>56</td>\n",
       "      <td>61</td>\n",
       "      <td>52</td>\n",
       "      <td>59</td>\n",
       "    </tr>\n",
       "    <tr>\n",
       "      <th>top</th>\n",
       "      <td>1</td>\n",
       "      <td>68</td>\n",
       "      <td>66</td>\n",
       "      <td>70</td>\n",
       "      <td>74</td>\n",
       "      <td>67</td>\n",
       "      <td>69</td>\n",
       "      <td>76</td>\n",
       "      <td>72</td>\n",
       "      <td>68</td>\n",
       "      <td>...</td>\n",
       "      <td>66</td>\n",
       "      <td>66</td>\n",
       "      <td>70</td>\n",
       "      <td>69</td>\n",
       "      <td>73</td>\n",
       "      <td>67</td>\n",
       "      <td>74</td>\n",
       "      <td>68</td>\n",
       "      <td>56</td>\n",
       "      <td>58</td>\n",
       "    </tr>\n",
       "    <tr>\n",
       "      <th>freq</th>\n",
       "      <td>212</td>\n",
       "      <td>19</td>\n",
       "      <td>19</td>\n",
       "      <td>22</td>\n",
       "      <td>29</td>\n",
       "      <td>20</td>\n",
       "      <td>20</td>\n",
       "      <td>23</td>\n",
       "      <td>22</td>\n",
       "      <td>23</td>\n",
       "      <td>...</td>\n",
       "      <td>35</td>\n",
       "      <td>23</td>\n",
       "      <td>22</td>\n",
       "      <td>21</td>\n",
       "      <td>19</td>\n",
       "      <td>15</td>\n",
       "      <td>19</td>\n",
       "      <td>18</td>\n",
       "      <td>17</td>\n",
       "      <td>16</td>\n",
       "    </tr>\n",
       "  </tbody>\n",
       "</table>\n",
       "<p>4 rows × 45 columns</p>\n",
       "</div>"
      ],
      "text/plain": [
       "         0    1    2    3    4    5    6    7    8    9  ...    35   36   37  \\\n",
       "count   267  267  267  267  267  267  267  267  267  267 ...   267  267  267   \n",
       "unique    2   39   43   34   40   44   44   37   42   37 ...    36   44   37   \n",
       "top       1   68   66   70   74   67   69   76   72   68 ...    66   66   70   \n",
       "freq    212   19   19   22   29   20   20   23   22   23 ...    35   23   22   \n",
       "\n",
       "         38   39   40   41   42   43   44  \n",
       "count   267  267  267  267  267  267  267  \n",
       "unique   40   51   50   56   61   52   59  \n",
       "top      69   73   67   74   68   56   58  \n",
       "freq     21   19   15   19   18   17   16  \n",
       "\n",
       "[4 rows x 45 columns]"
      ]
     },
     "execution_count": 7,
     "metadata": {},
     "output_type": "execute_result"
    }
   ],
   "source": [
    "df.describe()"
   ]
  },
  {
   "cell_type": "code",
   "execution_count": 8,
   "metadata": {
    "collapsed": false
   },
   "outputs": [],
   "source": [
    "y = df[0]\n",
    "x = df"
   ]
  },
  {
   "cell_type": "code",
   "execution_count": 9,
   "metadata": {
    "collapsed": false
   },
   "outputs": [],
   "source": [
    "x = x.drop([0], axis = 1)"
   ]
  },
  {
   "cell_type": "code",
   "execution_count": 10,
   "metadata": {
    "collapsed": false
   },
   "outputs": [
    {
     "data": {
      "text/html": [
       "<div>\n",
       "<table border=\"1\" class=\"dataframe\">\n",
       "  <thead>\n",
       "    <tr style=\"text-align: right;\">\n",
       "      <th></th>\n",
       "      <th>1</th>\n",
       "      <th>2</th>\n",
       "      <th>3</th>\n",
       "      <th>4</th>\n",
       "      <th>5</th>\n",
       "      <th>6</th>\n",
       "      <th>7</th>\n",
       "      <th>8</th>\n",
       "      <th>9</th>\n",
       "      <th>10</th>\n",
       "      <th>...</th>\n",
       "      <th>35</th>\n",
       "      <th>36</th>\n",
       "      <th>37</th>\n",
       "      <th>38</th>\n",
       "      <th>39</th>\n",
       "      <th>40</th>\n",
       "      <th>41</th>\n",
       "      <th>42</th>\n",
       "      <th>43</th>\n",
       "      <th>44</th>\n",
       "    </tr>\n",
       "  </thead>\n",
       "  <tbody>\n",
       "    <tr>\n",
       "      <th>0</th>\n",
       "      <td>59</td>\n",
       "      <td>52</td>\n",
       "      <td>70</td>\n",
       "      <td>67</td>\n",
       "      <td>73</td>\n",
       "      <td>66</td>\n",
       "      <td>72</td>\n",
       "      <td>61</td>\n",
       "      <td>58</td>\n",
       "      <td>52</td>\n",
       "      <td>...</td>\n",
       "      <td>66</td>\n",
       "      <td>56</td>\n",
       "      <td>62</td>\n",
       "      <td>56</td>\n",
       "      <td>72</td>\n",
       "      <td>62</td>\n",
       "      <td>74</td>\n",
       "      <td>74</td>\n",
       "      <td>64</td>\n",
       "      <td>67</td>\n",
       "    </tr>\n",
       "    <tr>\n",
       "      <th>1</th>\n",
       "      <td>72</td>\n",
       "      <td>62</td>\n",
       "      <td>69</td>\n",
       "      <td>67</td>\n",
       "      <td>78</td>\n",
       "      <td>82</td>\n",
       "      <td>74</td>\n",
       "      <td>65</td>\n",
       "      <td>69</td>\n",
       "      <td>63</td>\n",
       "      <td>...</td>\n",
       "      <td>65</td>\n",
       "      <td>71</td>\n",
       "      <td>63</td>\n",
       "      <td>60</td>\n",
       "      <td>69</td>\n",
       "      <td>73</td>\n",
       "      <td>67</td>\n",
       "      <td>71</td>\n",
       "      <td>56</td>\n",
       "      <td>58</td>\n",
       "    </tr>\n",
       "    <tr>\n",
       "      <th>2</th>\n",
       "      <td>71</td>\n",
       "      <td>62</td>\n",
       "      <td>70</td>\n",
       "      <td>64</td>\n",
       "      <td>67</td>\n",
       "      <td>64</td>\n",
       "      <td>79</td>\n",
       "      <td>65</td>\n",
       "      <td>70</td>\n",
       "      <td>69</td>\n",
       "      <td>...</td>\n",
       "      <td>73</td>\n",
       "      <td>70</td>\n",
       "      <td>66</td>\n",
       "      <td>65</td>\n",
       "      <td>64</td>\n",
       "      <td>55</td>\n",
       "      <td>61</td>\n",
       "      <td>41</td>\n",
       "      <td>51</td>\n",
       "      <td>46</td>\n",
       "    </tr>\n",
       "    <tr>\n",
       "      <th>3</th>\n",
       "      <td>69</td>\n",
       "      <td>71</td>\n",
       "      <td>70</td>\n",
       "      <td>78</td>\n",
       "      <td>61</td>\n",
       "      <td>63</td>\n",
       "      <td>67</td>\n",
       "      <td>65</td>\n",
       "      <td>59</td>\n",
       "      <td>59</td>\n",
       "      <td>...</td>\n",
       "      <td>61</td>\n",
       "      <td>61</td>\n",
       "      <td>66</td>\n",
       "      <td>65</td>\n",
       "      <td>72</td>\n",
       "      <td>73</td>\n",
       "      <td>68</td>\n",
       "      <td>68</td>\n",
       "      <td>59</td>\n",
       "      <td>63</td>\n",
       "    </tr>\n",
       "    <tr>\n",
       "      <th>4</th>\n",
       "      <td>70</td>\n",
       "      <td>66</td>\n",
       "      <td>61</td>\n",
       "      <td>66</td>\n",
       "      <td>61</td>\n",
       "      <td>58</td>\n",
       "      <td>69</td>\n",
       "      <td>69</td>\n",
       "      <td>72</td>\n",
       "      <td>68</td>\n",
       "      <td>...</td>\n",
       "      <td>67</td>\n",
       "      <td>69</td>\n",
       "      <td>70</td>\n",
       "      <td>66</td>\n",
       "      <td>70</td>\n",
       "      <td>64</td>\n",
       "      <td>60</td>\n",
       "      <td>55</td>\n",
       "      <td>49</td>\n",
       "      <td>41</td>\n",
       "    </tr>\n",
       "  </tbody>\n",
       "</table>\n",
       "<p>5 rows × 44 columns</p>\n",
       "</div>"
      ],
      "text/plain": [
       "   1   2   3   4   5   6   7   8   9   10 ...  35  36  37  38  39  40  41  42  \\\n",
       "0  59  52  70  67  73  66  72  61  58  52 ...  66  56  62  56  72  62  74  74   \n",
       "1  72  62  69  67  78  82  74  65  69  63 ...  65  71  63  60  69  73  67  71   \n",
       "2  71  62  70  64  67  64  79  65  70  69 ...  73  70  66  65  64  55  61  41   \n",
       "3  69  71  70  78  61  63  67  65  59  59 ...  61  61  66  65  72  73  68  68   \n",
       "4  70  66  61  66  61  58  69  69  72  68 ...  67  69  70  66  70  64  60  55   \n",
       "\n",
       "   43  44  \n",
       "0  64  67  \n",
       "1  56  58  \n",
       "2  51  46  \n",
       "3  59  63  \n",
       "4  49  41  \n",
       "\n",
       "[5 rows x 44 columns]"
      ]
     },
     "execution_count": 10,
     "metadata": {},
     "output_type": "execute_result"
    }
   ],
   "source": [
    "x.head()"
   ]
  },
  {
   "cell_type": "code",
   "execution_count": 11,
   "metadata": {
    "collapsed": false
   },
   "outputs": [
    {
     "data": {
      "text/plain": [
       "array(['1', '1', '1', '1', '1', '1', '1', '1', '1', '1', '1', '1', '1',\n",
       "       '1', '1', '1', '1', '1', '1', '1', '1', '1', '1', '1', '1', '1',\n",
       "       '1', '1', '1', '1', '1', '1', '1', '1', '1', '1', '1', '1', '1',\n",
       "       '1', '0', '0', '0', '0', '0', '0', '0', '0', '0', '0', '0', '0',\n",
       "       '0', '0', '0', '0', '0', '0', '0', '0', '0', '0', '0', '0', '0',\n",
       "       '0', '0', '0', '0', '0', '0', '0', '0', '0', '0', '0', '0', '0',\n",
       "       '0', '0', '1', '1', '1', '1', '1', '1', '1', '1', '1', '1', '1',\n",
       "       '1', '1', '1', '1', '1', '1', '1', '1', '1', '1', '1', '1', '1',\n",
       "       '1', '1', '1', '1', '1', '1', '1', '1', '1', '1', '1', '1', '1',\n",
       "       '1', '1', '1', '1', '1', '1', '1', '1', '1', '1', '1', '1', '1',\n",
       "       '1', '1', '1', '1', '1', '1', '1', '1', '1', '1', '1', '1', '1',\n",
       "       '1', '1', '1', '1', '1', '1', '1', '1', '1', '1', '1', '1', '1',\n",
       "       '1', '1', '1', '1', '1', '1', '1', '1', '1', '1', '1', '1', '1',\n",
       "       '1', '1', '1', '1', '1', '1', '1', '1', '1', '1', '1', '1', '1',\n",
       "       '1', '1', '1', '1', '1', '1', '1', '1', '1', '1', '1', '1', '1',\n",
       "       '1', '1', '1', '1', '1', '1', '1', '1', '1', '1', '1', '1', '1',\n",
       "       '1', '1', '1', '1', '1', '1', '1', '1', '1', '1', '1', '1', '1',\n",
       "       '1', '1', '1', '1', '1', '1', '1', '1', '1', '1', '1', '1', '1',\n",
       "       '1', '1', '1', '1', '1', '1', '1', '1', '1', '1', '1', '1', '1',\n",
       "       '1', '1', '1', '1', '1', '0', '0', '0', '0', '0', '0', '0', '0',\n",
       "       '0', '0', '0', '0', '0', '0', '0'], dtype=object)"
      ]
     },
     "execution_count": 11,
     "metadata": {},
     "output_type": "execute_result"
    }
   ],
   "source": [
    "np.array(y)"
   ]
  },
  {
   "cell_type": "markdown",
   "metadata": {},
   "source": [
    "# Accuracy"
   ]
  },
  {
   "cell_type": "code",
   "execution_count": 12,
   "metadata": {
    "collapsed": true
   },
   "outputs": [],
   "source": [
    "def accuracy_score(Y_true, Y_predict):\n",
    "    res = 0\n",
    "    for i in range(len(Y_true)):\n",
    "        if Y_true[i] == Y_predict[i]:\n",
    "            res = res+ 1\n",
    "    return res / len(Y_true)"
   ]
  },
  {
   "cell_type": "markdown",
   "metadata": {},
   "source": [
    "# Evaluate Random Forest & Logistic Regression"
   ]
  },
  {
   "cell_type": "code",
   "execution_count": 13,
   "metadata": {
    "collapsed": true
   },
   "outputs": [],
   "source": [
    "from sklearn.ensemble import RandomForestClassifier\n",
    "from sklearn.linear_model import LogisticRegression"
   ]
  },
  {
   "cell_type": "code",
   "execution_count": 14,
   "metadata": {
    "collapsed": true
   },
   "outputs": [],
   "source": [
    "trials = 30\n",
    "all_accuracies_random_forest = np.zeros(trials)\n",
    "\n",
    "all_accuracies_logistic_regression = np.zeros(trials)"
   ]
  },
  {
   "cell_type": "markdown",
   "metadata": {},
   "source": [
    "### Table to fill"
   ]
  },
  {
   "cell_type": "code",
   "execution_count": 22,
   "metadata": {
    "collapsed": false
   },
   "outputs": [],
   "source": [
    "table = pd.DataFrame(np.nan, index=range(trials), columns=['Train Dataset size', 'Test Dataset Size', 'RandomForest tree','RandomForest max_depth','Accuracy RandomForest','Accuracy LogisticRegression'])"
   ]
  },
  {
   "cell_type": "code",
   "execution_count": 23,
   "metadata": {
    "collapsed": false
   },
   "outputs": [
    {
     "data": {
      "text/html": [
       "<div>\n",
       "<table border=\"1\" class=\"dataframe\">\n",
       "  <thead>\n",
       "    <tr style=\"text-align: right;\">\n",
       "      <th></th>\n",
       "      <th>Train Dataset size</th>\n",
       "      <th>Test Dataset Size</th>\n",
       "      <th>RandomForest tree</th>\n",
       "      <th>RandomForest max_depth</th>\n",
       "      <th>Accuracy RandomForest</th>\n",
       "      <th>Accuracy LogisticRegression</th>\n",
       "    </tr>\n",
       "  </thead>\n",
       "  <tbody>\n",
       "    <tr>\n",
       "      <th>0</th>\n",
       "      <td>NaN</td>\n",
       "      <td>NaN</td>\n",
       "      <td>NaN</td>\n",
       "      <td>NaN</td>\n",
       "      <td>NaN</td>\n",
       "      <td>NaN</td>\n",
       "    </tr>\n",
       "    <tr>\n",
       "      <th>1</th>\n",
       "      <td>NaN</td>\n",
       "      <td>NaN</td>\n",
       "      <td>NaN</td>\n",
       "      <td>NaN</td>\n",
       "      <td>NaN</td>\n",
       "      <td>NaN</td>\n",
       "    </tr>\n",
       "    <tr>\n",
       "      <th>2</th>\n",
       "      <td>NaN</td>\n",
       "      <td>NaN</td>\n",
       "      <td>NaN</td>\n",
       "      <td>NaN</td>\n",
       "      <td>NaN</td>\n",
       "      <td>NaN</td>\n",
       "    </tr>\n",
       "    <tr>\n",
       "      <th>3</th>\n",
       "      <td>NaN</td>\n",
       "      <td>NaN</td>\n",
       "      <td>NaN</td>\n",
       "      <td>NaN</td>\n",
       "      <td>NaN</td>\n",
       "      <td>NaN</td>\n",
       "    </tr>\n",
       "    <tr>\n",
       "      <th>4</th>\n",
       "      <td>NaN</td>\n",
       "      <td>NaN</td>\n",
       "      <td>NaN</td>\n",
       "      <td>NaN</td>\n",
       "      <td>NaN</td>\n",
       "      <td>NaN</td>\n",
       "    </tr>\n",
       "    <tr>\n",
       "      <th>5</th>\n",
       "      <td>NaN</td>\n",
       "      <td>NaN</td>\n",
       "      <td>NaN</td>\n",
       "      <td>NaN</td>\n",
       "      <td>NaN</td>\n",
       "      <td>NaN</td>\n",
       "    </tr>\n",
       "    <tr>\n",
       "      <th>6</th>\n",
       "      <td>NaN</td>\n",
       "      <td>NaN</td>\n",
       "      <td>NaN</td>\n",
       "      <td>NaN</td>\n",
       "      <td>NaN</td>\n",
       "      <td>NaN</td>\n",
       "    </tr>\n",
       "    <tr>\n",
       "      <th>7</th>\n",
       "      <td>NaN</td>\n",
       "      <td>NaN</td>\n",
       "      <td>NaN</td>\n",
       "      <td>NaN</td>\n",
       "      <td>NaN</td>\n",
       "      <td>NaN</td>\n",
       "    </tr>\n",
       "    <tr>\n",
       "      <th>8</th>\n",
       "      <td>NaN</td>\n",
       "      <td>NaN</td>\n",
       "      <td>NaN</td>\n",
       "      <td>NaN</td>\n",
       "      <td>NaN</td>\n",
       "      <td>NaN</td>\n",
       "    </tr>\n",
       "    <tr>\n",
       "      <th>9</th>\n",
       "      <td>NaN</td>\n",
       "      <td>NaN</td>\n",
       "      <td>NaN</td>\n",
       "      <td>NaN</td>\n",
       "      <td>NaN</td>\n",
       "      <td>NaN</td>\n",
       "    </tr>\n",
       "    <tr>\n",
       "      <th>10</th>\n",
       "      <td>NaN</td>\n",
       "      <td>NaN</td>\n",
       "      <td>NaN</td>\n",
       "      <td>NaN</td>\n",
       "      <td>NaN</td>\n",
       "      <td>NaN</td>\n",
       "    </tr>\n",
       "    <tr>\n",
       "      <th>11</th>\n",
       "      <td>NaN</td>\n",
       "      <td>NaN</td>\n",
       "      <td>NaN</td>\n",
       "      <td>NaN</td>\n",
       "      <td>NaN</td>\n",
       "      <td>NaN</td>\n",
       "    </tr>\n",
       "    <tr>\n",
       "      <th>12</th>\n",
       "      <td>NaN</td>\n",
       "      <td>NaN</td>\n",
       "      <td>NaN</td>\n",
       "      <td>NaN</td>\n",
       "      <td>NaN</td>\n",
       "      <td>NaN</td>\n",
       "    </tr>\n",
       "    <tr>\n",
       "      <th>13</th>\n",
       "      <td>NaN</td>\n",
       "      <td>NaN</td>\n",
       "      <td>NaN</td>\n",
       "      <td>NaN</td>\n",
       "      <td>NaN</td>\n",
       "      <td>NaN</td>\n",
       "    </tr>\n",
       "    <tr>\n",
       "      <th>14</th>\n",
       "      <td>NaN</td>\n",
       "      <td>NaN</td>\n",
       "      <td>NaN</td>\n",
       "      <td>NaN</td>\n",
       "      <td>NaN</td>\n",
       "      <td>NaN</td>\n",
       "    </tr>\n",
       "    <tr>\n",
       "      <th>15</th>\n",
       "      <td>NaN</td>\n",
       "      <td>NaN</td>\n",
       "      <td>NaN</td>\n",
       "      <td>NaN</td>\n",
       "      <td>NaN</td>\n",
       "      <td>NaN</td>\n",
       "    </tr>\n",
       "    <tr>\n",
       "      <th>16</th>\n",
       "      <td>NaN</td>\n",
       "      <td>NaN</td>\n",
       "      <td>NaN</td>\n",
       "      <td>NaN</td>\n",
       "      <td>NaN</td>\n",
       "      <td>NaN</td>\n",
       "    </tr>\n",
       "    <tr>\n",
       "      <th>17</th>\n",
       "      <td>NaN</td>\n",
       "      <td>NaN</td>\n",
       "      <td>NaN</td>\n",
       "      <td>NaN</td>\n",
       "      <td>NaN</td>\n",
       "      <td>NaN</td>\n",
       "    </tr>\n",
       "    <tr>\n",
       "      <th>18</th>\n",
       "      <td>NaN</td>\n",
       "      <td>NaN</td>\n",
       "      <td>NaN</td>\n",
       "      <td>NaN</td>\n",
       "      <td>NaN</td>\n",
       "      <td>NaN</td>\n",
       "    </tr>\n",
       "    <tr>\n",
       "      <th>19</th>\n",
       "      <td>NaN</td>\n",
       "      <td>NaN</td>\n",
       "      <td>NaN</td>\n",
       "      <td>NaN</td>\n",
       "      <td>NaN</td>\n",
       "      <td>NaN</td>\n",
       "    </tr>\n",
       "    <tr>\n",
       "      <th>20</th>\n",
       "      <td>NaN</td>\n",
       "      <td>NaN</td>\n",
       "      <td>NaN</td>\n",
       "      <td>NaN</td>\n",
       "      <td>NaN</td>\n",
       "      <td>NaN</td>\n",
       "    </tr>\n",
       "    <tr>\n",
       "      <th>21</th>\n",
       "      <td>NaN</td>\n",
       "      <td>NaN</td>\n",
       "      <td>NaN</td>\n",
       "      <td>NaN</td>\n",
       "      <td>NaN</td>\n",
       "      <td>NaN</td>\n",
       "    </tr>\n",
       "    <tr>\n",
       "      <th>22</th>\n",
       "      <td>NaN</td>\n",
       "      <td>NaN</td>\n",
       "      <td>NaN</td>\n",
       "      <td>NaN</td>\n",
       "      <td>NaN</td>\n",
       "      <td>NaN</td>\n",
       "    </tr>\n",
       "    <tr>\n",
       "      <th>23</th>\n",
       "      <td>NaN</td>\n",
       "      <td>NaN</td>\n",
       "      <td>NaN</td>\n",
       "      <td>NaN</td>\n",
       "      <td>NaN</td>\n",
       "      <td>NaN</td>\n",
       "    </tr>\n",
       "    <tr>\n",
       "      <th>24</th>\n",
       "      <td>NaN</td>\n",
       "      <td>NaN</td>\n",
       "      <td>NaN</td>\n",
       "      <td>NaN</td>\n",
       "      <td>NaN</td>\n",
       "      <td>NaN</td>\n",
       "    </tr>\n",
       "    <tr>\n",
       "      <th>25</th>\n",
       "      <td>NaN</td>\n",
       "      <td>NaN</td>\n",
       "      <td>NaN</td>\n",
       "      <td>NaN</td>\n",
       "      <td>NaN</td>\n",
       "      <td>NaN</td>\n",
       "    </tr>\n",
       "    <tr>\n",
       "      <th>26</th>\n",
       "      <td>NaN</td>\n",
       "      <td>NaN</td>\n",
       "      <td>NaN</td>\n",
       "      <td>NaN</td>\n",
       "      <td>NaN</td>\n",
       "      <td>NaN</td>\n",
       "    </tr>\n",
       "    <tr>\n",
       "      <th>27</th>\n",
       "      <td>NaN</td>\n",
       "      <td>NaN</td>\n",
       "      <td>NaN</td>\n",
       "      <td>NaN</td>\n",
       "      <td>NaN</td>\n",
       "      <td>NaN</td>\n",
       "    </tr>\n",
       "    <tr>\n",
       "      <th>28</th>\n",
       "      <td>NaN</td>\n",
       "      <td>NaN</td>\n",
       "      <td>NaN</td>\n",
       "      <td>NaN</td>\n",
       "      <td>NaN</td>\n",
       "      <td>NaN</td>\n",
       "    </tr>\n",
       "    <tr>\n",
       "      <th>29</th>\n",
       "      <td>NaN</td>\n",
       "      <td>NaN</td>\n",
       "      <td>NaN</td>\n",
       "      <td>NaN</td>\n",
       "      <td>NaN</td>\n",
       "      <td>NaN</td>\n",
       "    </tr>\n",
       "  </tbody>\n",
       "</table>\n",
       "</div>"
      ],
      "text/plain": [
       "    Train Dataset size  Test Dataset Size  RandomForest tree  \\\n",
       "0                  NaN                NaN                NaN   \n",
       "1                  NaN                NaN                NaN   \n",
       "2                  NaN                NaN                NaN   \n",
       "3                  NaN                NaN                NaN   \n",
       "4                  NaN                NaN                NaN   \n",
       "5                  NaN                NaN                NaN   \n",
       "6                  NaN                NaN                NaN   \n",
       "7                  NaN                NaN                NaN   \n",
       "8                  NaN                NaN                NaN   \n",
       "9                  NaN                NaN                NaN   \n",
       "10                 NaN                NaN                NaN   \n",
       "11                 NaN                NaN                NaN   \n",
       "12                 NaN                NaN                NaN   \n",
       "13                 NaN                NaN                NaN   \n",
       "14                 NaN                NaN                NaN   \n",
       "15                 NaN                NaN                NaN   \n",
       "16                 NaN                NaN                NaN   \n",
       "17                 NaN                NaN                NaN   \n",
       "18                 NaN                NaN                NaN   \n",
       "19                 NaN                NaN                NaN   \n",
       "20                 NaN                NaN                NaN   \n",
       "21                 NaN                NaN                NaN   \n",
       "22                 NaN                NaN                NaN   \n",
       "23                 NaN                NaN                NaN   \n",
       "24                 NaN                NaN                NaN   \n",
       "25                 NaN                NaN                NaN   \n",
       "26                 NaN                NaN                NaN   \n",
       "27                 NaN                NaN                NaN   \n",
       "28                 NaN                NaN                NaN   \n",
       "29                 NaN                NaN                NaN   \n",
       "\n",
       "    RandomForest max_depth  Accuracy RandomForest  Accuracy LogisticRegression  \n",
       "0                      NaN                    NaN                          NaN  \n",
       "1                      NaN                    NaN                          NaN  \n",
       "2                      NaN                    NaN                          NaN  \n",
       "3                      NaN                    NaN                          NaN  \n",
       "4                      NaN                    NaN                          NaN  \n",
       "5                      NaN                    NaN                          NaN  \n",
       "6                      NaN                    NaN                          NaN  \n",
       "7                      NaN                    NaN                          NaN  \n",
       "8                      NaN                    NaN                          NaN  \n",
       "9                      NaN                    NaN                          NaN  \n",
       "10                     NaN                    NaN                          NaN  \n",
       "11                     NaN                    NaN                          NaN  \n",
       "12                     NaN                    NaN                          NaN  \n",
       "13                     NaN                    NaN                          NaN  \n",
       "14                     NaN                    NaN                          NaN  \n",
       "15                     NaN                    NaN                          NaN  \n",
       "16                     NaN                    NaN                          NaN  \n",
       "17                     NaN                    NaN                          NaN  \n",
       "18                     NaN                    NaN                          NaN  \n",
       "19                     NaN                    NaN                          NaN  \n",
       "20                     NaN                    NaN                          NaN  \n",
       "21                     NaN                    NaN                          NaN  \n",
       "22                     NaN                    NaN                          NaN  \n",
       "23                     NaN                    NaN                          NaN  \n",
       "24                     NaN                    NaN                          NaN  \n",
       "25                     NaN                    NaN                          NaN  \n",
       "26                     NaN                    NaN                          NaN  \n",
       "27                     NaN                    NaN                          NaN  \n",
       "28                     NaN                    NaN                          NaN  \n",
       "29                     NaN                    NaN                          NaN  "
      ]
     },
     "execution_count": 23,
     "metadata": {},
     "output_type": "execute_result"
    }
   ],
   "source": [
    "table"
   ]
  },
  {
   "cell_type": "code",
   "execution_count": 17,
   "metadata": {
    "collapsed": true
   },
   "outputs": [],
   "source": [
    "X= df\n",
    "Y=df[0]"
   ]
  },
  {
   "cell_type": "code",
   "execution_count": 26,
   "metadata": {
    "collapsed": false
   },
   "outputs": [],
   "source": [
    "##different size of train and test \n",
    "size= list(range(37,95,3))\n",
    "tree_number = 10\n",
    "depth = 20"
   ]
  },
  {
   "cell_type": "markdown",
   "metadata": {},
   "source": [
    "Evaluate the performance of Random Forest and Logistic Regression average over 20 trials of 4-fold cross validation"
   ]
  },
  {
   "cell_type": "code",
   "execution_count": 27,
   "metadata": {
    "collapsed": false
   },
   "outputs": [
    {
     "name": "stdout",
     "output_type": "stream",
     "text": [
      "0 :   Random Forest:  0.923076923077 , Logistic Regression:  0.715976331361\n",
      "1 :   Random Forest:  0.944099378882 , Logistic Regression:  0.695652173913\n",
      "2 :   Random Forest:  0.993464052288 , Logistic Regression:  0.81045751634\n",
      "3 :   Random Forest:  0.993103448276 , Logistic Regression:  0.765517241379\n",
      "4 :   Random Forest:  0.941605839416 , Logistic Regression:  0.802919708029\n",
      "5 :   Random Forest:  1.0 , Logistic Regression:  0.860465116279\n",
      "6 :   Random Forest:  0.97520661157 , Logistic Regression:  0.785123966942\n",
      "7 :   Random Forest:  1.0 , Logistic Regression:  0.893805309735\n",
      "8 :   Random Forest:  0.990476190476 , Logistic Regression:  0.904761904762\n",
      "9 :   Random Forest:  1.0 , Logistic Regression:  0.948453608247\n",
      "10 :   Random Forest:  0.910112359551 , Logistic Regression:  0.943820224719\n",
      "11 :   Random Forest:  0.925925925926 , Logistic Regression:  0.938271604938\n",
      "12 :   Random Forest:  0.972602739726 , Logistic Regression:  0.931506849315\n",
      "13 :   Random Forest:  1.0 , Logistic Regression:  0.984615384615\n",
      "14 :   Random Forest:  0.947368421053 , Logistic Regression:  0.947368421053\n",
      "15 :   Random Forest:  1.0 , Logistic Regression:  0.959183673469\n",
      "16 :   Random Forest:  0.975609756098 , Logistic Regression:  0.975609756098\n",
      "17 :   Random Forest:  1.0 , Logistic Regression:  1.0\n",
      "18 :   Random Forest:  1.0 , Logistic Regression:  1.0\n",
      "19 :   Random Forest:  1.0 , Logistic Regression:  0.941176470588\n",
      "20 :   Random Forest:  0.940828402367 , Logistic Regression:  0.751479289941\n",
      "21 :   Random Forest:  0.987577639752 , Logistic Regression:  0.770186335404\n",
      "22 :   Random Forest:  1.0 , Logistic Regression:  0.751633986928\n",
      "23 :   Random Forest:  0.944827586207 , Logistic Regression:  0.71724137931\n",
      "24 :   Random Forest:  0.897810218978 , Logistic Regression:  0.875912408759\n",
      "25 :   Random Forest:  0.984496124031 , Logistic Regression:  0.682170542636\n",
      "26 :   Random Forest:  0.95867768595 , Logistic Regression:  0.785123966942\n",
      "27 :   Random Forest:  0.982300884956 , Logistic Regression:  0.805309734513\n",
      "28 :   Random Forest:  1.0 , Logistic Regression:  0.828571428571\n",
      "29 :   Random Forest:  0.948453608247 , Logistic Regression:  0.917525773196\n"
     ]
    }
   ],
   "source": [
    "for trial in range(trials):    \n",
    "    X= df\n",
    "    Y=df[0]\n",
    "    idx = np.arange(X.shape[0])\n",
    "    np.random.seed(trial*500+12*2323)\n",
    "    np.random.shuffle(idx)\n",
    "    \n",
    "    ##Everytime change the size of training and testing data:\n",
    "    \n",
    "    X = X.iloc[idx]\n",
    "    Y = Y.iloc[idx]\n",
    "    \n",
    "    Xtrain = X[ 0: int(np.floor(size[int(trial%len(size))] * X.shape[0] / 100)) ]\n",
    "    Ytrain = Y[ 0: int(np.floor(size[int(trial%len(size))] * X.shape[0] / 100)) ]\n",
    "\n",
    "    Xtest = X[int(np.floor(size[int(trial%len(size))] * X.shape[0] / 100)): ]\n",
    "    Ytest = Y[int(np.floor(size[int(trial%len(size))] * X.shape[0] / 100)): ]\n",
    "    \n",
    "    if(trial%5 ==0):\n",
    "        tree_number = tree_number + 5\n",
    "        depth = depth + 5\n",
    "    \n",
    "    ####RANDOM FOREST####\n",
    "    \n",
    "    # Create a random forest classifier. By convention, clf means 'classifier'\n",
    "    clf = RandomForestClassifier(n_jobs=2, max_depth=depth, n_estimators=tree_number  )\n",
    "\n",
    "    # Train the classifier to take the training features and learn how they relate\n",
    "    # to the training y (the species)\n",
    "    clf.fit(Xtrain, Ytrain)\n",
    "\n",
    "    # output predictions on the remaining data\n",
    "    Y_pred_random_forest = clf.predict(Xtest)\n",
    "    all_accuracies_random_forest[trial]  = accuracy_score(np.array(Ytest), Y_pred_random_forest)\n",
    "    ########\n",
    "        \n",
    "    ####Logistic Regression####\n",
    "        \n",
    "    clf2 = LogisticRegression()\n",
    "    clf2.fit(Xtrain,Ytrain)\n",
    "\n",
    "    # output predictions on the remaining data\n",
    "    Y_pred_logistic = clf2.predict(Xtest)\n",
    "        \n",
    "    all_accuracies_logistic_regression[trial] = accuracy_score(np.array(Ytest.ravel()), np.array(Y_pred_logistic))\n",
    "    ########\n",
    "       \n",
    "    \n",
    "    print(trial, \":  \",\"Random Forest: \",all_accuracies_random_forest[trial],\", Logistic Regression: \", all_accuracies_logistic_regression[trial])\n",
    "    table.loc[trial, 'Train Dataset size'] = Xtrain.shape[0]\n",
    "    table.loc[trial, 'Test Dataset Size'] = Xtest.shape[0]\n",
    "    table.loc[trial, 'Accuracy RandomForest'] = all_accuracies_random_forest[trial]\n",
    "    table.loc[trial, 'Accuracy LogisticRegression'] = all_accuracies_logistic_regression[trial]\n",
    "    table.loc[trial, 'RandomForest tree'] = tree_number\n",
    "    table.loc[trial, 'RandomForest max_depth'] = depth\n",
    "    "
   ]
  },
  {
   "cell_type": "code",
   "execution_count": 28,
   "metadata": {
    "collapsed": false
   },
   "outputs": [
    {
     "data": {
      "text/html": [
       "<div>\n",
       "<table border=\"1\" class=\"dataframe\">\n",
       "  <thead>\n",
       "    <tr style=\"text-align: right;\">\n",
       "      <th></th>\n",
       "      <th>Train Dataset size</th>\n",
       "      <th>Test Dataset Size</th>\n",
       "      <th>RandomForest tree</th>\n",
       "      <th>RandomForest max_depth</th>\n",
       "      <th>Accuracy RandomForest</th>\n",
       "      <th>Accuracy LogisticRegression</th>\n",
       "    </tr>\n",
       "  </thead>\n",
       "  <tbody>\n",
       "    <tr>\n",
       "      <th>0</th>\n",
       "      <td>98.0</td>\n",
       "      <td>169.0</td>\n",
       "      <td>15.0</td>\n",
       "      <td>25.0</td>\n",
       "      <td>0.923077</td>\n",
       "      <td>0.715976</td>\n",
       "    </tr>\n",
       "    <tr>\n",
       "      <th>1</th>\n",
       "      <td>106.0</td>\n",
       "      <td>161.0</td>\n",
       "      <td>15.0</td>\n",
       "      <td>25.0</td>\n",
       "      <td>0.944099</td>\n",
       "      <td>0.695652</td>\n",
       "    </tr>\n",
       "    <tr>\n",
       "      <th>2</th>\n",
       "      <td>114.0</td>\n",
       "      <td>153.0</td>\n",
       "      <td>15.0</td>\n",
       "      <td>25.0</td>\n",
       "      <td>0.993464</td>\n",
       "      <td>0.810458</td>\n",
       "    </tr>\n",
       "    <tr>\n",
       "      <th>3</th>\n",
       "      <td>122.0</td>\n",
       "      <td>145.0</td>\n",
       "      <td>15.0</td>\n",
       "      <td>25.0</td>\n",
       "      <td>0.993103</td>\n",
       "      <td>0.765517</td>\n",
       "    </tr>\n",
       "    <tr>\n",
       "      <th>4</th>\n",
       "      <td>130.0</td>\n",
       "      <td>137.0</td>\n",
       "      <td>15.0</td>\n",
       "      <td>25.0</td>\n",
       "      <td>0.941606</td>\n",
       "      <td>0.802920</td>\n",
       "    </tr>\n",
       "    <tr>\n",
       "      <th>5</th>\n",
       "      <td>138.0</td>\n",
       "      <td>129.0</td>\n",
       "      <td>20.0</td>\n",
       "      <td>30.0</td>\n",
       "      <td>1.000000</td>\n",
       "      <td>0.860465</td>\n",
       "    </tr>\n",
       "    <tr>\n",
       "      <th>6</th>\n",
       "      <td>146.0</td>\n",
       "      <td>121.0</td>\n",
       "      <td>20.0</td>\n",
       "      <td>30.0</td>\n",
       "      <td>0.975207</td>\n",
       "      <td>0.785124</td>\n",
       "    </tr>\n",
       "    <tr>\n",
       "      <th>7</th>\n",
       "      <td>154.0</td>\n",
       "      <td>113.0</td>\n",
       "      <td>20.0</td>\n",
       "      <td>30.0</td>\n",
       "      <td>1.000000</td>\n",
       "      <td>0.893805</td>\n",
       "    </tr>\n",
       "    <tr>\n",
       "      <th>8</th>\n",
       "      <td>162.0</td>\n",
       "      <td>105.0</td>\n",
       "      <td>20.0</td>\n",
       "      <td>30.0</td>\n",
       "      <td>0.990476</td>\n",
       "      <td>0.904762</td>\n",
       "    </tr>\n",
       "    <tr>\n",
       "      <th>9</th>\n",
       "      <td>170.0</td>\n",
       "      <td>97.0</td>\n",
       "      <td>20.0</td>\n",
       "      <td>30.0</td>\n",
       "      <td>1.000000</td>\n",
       "      <td>0.948454</td>\n",
       "    </tr>\n",
       "    <tr>\n",
       "      <th>10</th>\n",
       "      <td>178.0</td>\n",
       "      <td>89.0</td>\n",
       "      <td>25.0</td>\n",
       "      <td>35.0</td>\n",
       "      <td>0.910112</td>\n",
       "      <td>0.943820</td>\n",
       "    </tr>\n",
       "    <tr>\n",
       "      <th>11</th>\n",
       "      <td>186.0</td>\n",
       "      <td>81.0</td>\n",
       "      <td>25.0</td>\n",
       "      <td>35.0</td>\n",
       "      <td>0.925926</td>\n",
       "      <td>0.938272</td>\n",
       "    </tr>\n",
       "    <tr>\n",
       "      <th>12</th>\n",
       "      <td>194.0</td>\n",
       "      <td>73.0</td>\n",
       "      <td>25.0</td>\n",
       "      <td>35.0</td>\n",
       "      <td>0.972603</td>\n",
       "      <td>0.931507</td>\n",
       "    </tr>\n",
       "    <tr>\n",
       "      <th>13</th>\n",
       "      <td>202.0</td>\n",
       "      <td>65.0</td>\n",
       "      <td>25.0</td>\n",
       "      <td>35.0</td>\n",
       "      <td>1.000000</td>\n",
       "      <td>0.984615</td>\n",
       "    </tr>\n",
       "    <tr>\n",
       "      <th>14</th>\n",
       "      <td>210.0</td>\n",
       "      <td>57.0</td>\n",
       "      <td>25.0</td>\n",
       "      <td>35.0</td>\n",
       "      <td>0.947368</td>\n",
       "      <td>0.947368</td>\n",
       "    </tr>\n",
       "    <tr>\n",
       "      <th>15</th>\n",
       "      <td>218.0</td>\n",
       "      <td>49.0</td>\n",
       "      <td>30.0</td>\n",
       "      <td>40.0</td>\n",
       "      <td>1.000000</td>\n",
       "      <td>0.959184</td>\n",
       "    </tr>\n",
       "    <tr>\n",
       "      <th>16</th>\n",
       "      <td>226.0</td>\n",
       "      <td>41.0</td>\n",
       "      <td>30.0</td>\n",
       "      <td>40.0</td>\n",
       "      <td>0.975610</td>\n",
       "      <td>0.975610</td>\n",
       "    </tr>\n",
       "    <tr>\n",
       "      <th>17</th>\n",
       "      <td>234.0</td>\n",
       "      <td>33.0</td>\n",
       "      <td>30.0</td>\n",
       "      <td>40.0</td>\n",
       "      <td>1.000000</td>\n",
       "      <td>1.000000</td>\n",
       "    </tr>\n",
       "    <tr>\n",
       "      <th>18</th>\n",
       "      <td>242.0</td>\n",
       "      <td>25.0</td>\n",
       "      <td>30.0</td>\n",
       "      <td>40.0</td>\n",
       "      <td>1.000000</td>\n",
       "      <td>1.000000</td>\n",
       "    </tr>\n",
       "    <tr>\n",
       "      <th>19</th>\n",
       "      <td>250.0</td>\n",
       "      <td>17.0</td>\n",
       "      <td>30.0</td>\n",
       "      <td>40.0</td>\n",
       "      <td>1.000000</td>\n",
       "      <td>0.941176</td>\n",
       "    </tr>\n",
       "    <tr>\n",
       "      <th>20</th>\n",
       "      <td>98.0</td>\n",
       "      <td>169.0</td>\n",
       "      <td>35.0</td>\n",
       "      <td>45.0</td>\n",
       "      <td>0.940828</td>\n",
       "      <td>0.751479</td>\n",
       "    </tr>\n",
       "    <tr>\n",
       "      <th>21</th>\n",
       "      <td>106.0</td>\n",
       "      <td>161.0</td>\n",
       "      <td>35.0</td>\n",
       "      <td>45.0</td>\n",
       "      <td>0.987578</td>\n",
       "      <td>0.770186</td>\n",
       "    </tr>\n",
       "    <tr>\n",
       "      <th>22</th>\n",
       "      <td>114.0</td>\n",
       "      <td>153.0</td>\n",
       "      <td>35.0</td>\n",
       "      <td>45.0</td>\n",
       "      <td>1.000000</td>\n",
       "      <td>0.751634</td>\n",
       "    </tr>\n",
       "    <tr>\n",
       "      <th>23</th>\n",
       "      <td>122.0</td>\n",
       "      <td>145.0</td>\n",
       "      <td>35.0</td>\n",
       "      <td>45.0</td>\n",
       "      <td>0.944828</td>\n",
       "      <td>0.717241</td>\n",
       "    </tr>\n",
       "    <tr>\n",
       "      <th>24</th>\n",
       "      <td>130.0</td>\n",
       "      <td>137.0</td>\n",
       "      <td>35.0</td>\n",
       "      <td>45.0</td>\n",
       "      <td>0.897810</td>\n",
       "      <td>0.875912</td>\n",
       "    </tr>\n",
       "    <tr>\n",
       "      <th>25</th>\n",
       "      <td>138.0</td>\n",
       "      <td>129.0</td>\n",
       "      <td>40.0</td>\n",
       "      <td>50.0</td>\n",
       "      <td>0.984496</td>\n",
       "      <td>0.682171</td>\n",
       "    </tr>\n",
       "    <tr>\n",
       "      <th>26</th>\n",
       "      <td>146.0</td>\n",
       "      <td>121.0</td>\n",
       "      <td>40.0</td>\n",
       "      <td>50.0</td>\n",
       "      <td>0.958678</td>\n",
       "      <td>0.785124</td>\n",
       "    </tr>\n",
       "    <tr>\n",
       "      <th>27</th>\n",
       "      <td>154.0</td>\n",
       "      <td>113.0</td>\n",
       "      <td>40.0</td>\n",
       "      <td>50.0</td>\n",
       "      <td>0.982301</td>\n",
       "      <td>0.805310</td>\n",
       "    </tr>\n",
       "    <tr>\n",
       "      <th>28</th>\n",
       "      <td>162.0</td>\n",
       "      <td>105.0</td>\n",
       "      <td>40.0</td>\n",
       "      <td>50.0</td>\n",
       "      <td>1.000000</td>\n",
       "      <td>0.828571</td>\n",
       "    </tr>\n",
       "    <tr>\n",
       "      <th>29</th>\n",
       "      <td>170.0</td>\n",
       "      <td>97.0</td>\n",
       "      <td>40.0</td>\n",
       "      <td>50.0</td>\n",
       "      <td>0.948454</td>\n",
       "      <td>0.917526</td>\n",
       "    </tr>\n",
       "  </tbody>\n",
       "</table>\n",
       "</div>"
      ],
      "text/plain": [
       "    Train Dataset size  Test Dataset Size  RandomForest tree  \\\n",
       "0                 98.0              169.0               15.0   \n",
       "1                106.0              161.0               15.0   \n",
       "2                114.0              153.0               15.0   \n",
       "3                122.0              145.0               15.0   \n",
       "4                130.0              137.0               15.0   \n",
       "5                138.0              129.0               20.0   \n",
       "6                146.0              121.0               20.0   \n",
       "7                154.0              113.0               20.0   \n",
       "8                162.0              105.0               20.0   \n",
       "9                170.0               97.0               20.0   \n",
       "10               178.0               89.0               25.0   \n",
       "11               186.0               81.0               25.0   \n",
       "12               194.0               73.0               25.0   \n",
       "13               202.0               65.0               25.0   \n",
       "14               210.0               57.0               25.0   \n",
       "15               218.0               49.0               30.0   \n",
       "16               226.0               41.0               30.0   \n",
       "17               234.0               33.0               30.0   \n",
       "18               242.0               25.0               30.0   \n",
       "19               250.0               17.0               30.0   \n",
       "20                98.0              169.0               35.0   \n",
       "21               106.0              161.0               35.0   \n",
       "22               114.0              153.0               35.0   \n",
       "23               122.0              145.0               35.0   \n",
       "24               130.0              137.0               35.0   \n",
       "25               138.0              129.0               40.0   \n",
       "26               146.0              121.0               40.0   \n",
       "27               154.0              113.0               40.0   \n",
       "28               162.0              105.0               40.0   \n",
       "29               170.0               97.0               40.0   \n",
       "\n",
       "    RandomForest max_depth  Accuracy RandomForest  Accuracy LogisticRegression  \n",
       "0                     25.0               0.923077                     0.715976  \n",
       "1                     25.0               0.944099                     0.695652  \n",
       "2                     25.0               0.993464                     0.810458  \n",
       "3                     25.0               0.993103                     0.765517  \n",
       "4                     25.0               0.941606                     0.802920  \n",
       "5                     30.0               1.000000                     0.860465  \n",
       "6                     30.0               0.975207                     0.785124  \n",
       "7                     30.0               1.000000                     0.893805  \n",
       "8                     30.0               0.990476                     0.904762  \n",
       "9                     30.0               1.000000                     0.948454  \n",
       "10                    35.0               0.910112                     0.943820  \n",
       "11                    35.0               0.925926                     0.938272  \n",
       "12                    35.0               0.972603                     0.931507  \n",
       "13                    35.0               1.000000                     0.984615  \n",
       "14                    35.0               0.947368                     0.947368  \n",
       "15                    40.0               1.000000                     0.959184  \n",
       "16                    40.0               0.975610                     0.975610  \n",
       "17                    40.0               1.000000                     1.000000  \n",
       "18                    40.0               1.000000                     1.000000  \n",
       "19                    40.0               1.000000                     0.941176  \n",
       "20                    45.0               0.940828                     0.751479  \n",
       "21                    45.0               0.987578                     0.770186  \n",
       "22                    45.0               1.000000                     0.751634  \n",
       "23                    45.0               0.944828                     0.717241  \n",
       "24                    45.0               0.897810                     0.875912  \n",
       "25                    50.0               0.984496                     0.682171  \n",
       "26                    50.0               0.958678                     0.785124  \n",
       "27                    50.0               0.982301                     0.805310  \n",
       "28                    50.0               1.000000                     0.828571  \n",
       "29                    50.0               0.948454                     0.917526  "
      ]
     },
     "execution_count": 28,
     "metadata": {},
     "output_type": "execute_result"
    }
   ],
   "source": [
    "table"
   ]
  },
  {
   "cell_type": "markdown",
   "metadata": {},
   "source": [
    "We are getting accuracy almost 100% for Random Forest :D "
   ]
  },
  {
   "cell_type": "markdown",
   "metadata": {},
   "source": [
    "### with cross validation:"
   ]
  },
  {
   "cell_type": "code",
   "execution_count": 29,
   "metadata": {
    "collapsed": true
   },
   "outputs": [],
   "source": [
    "trials = 20\n",
    "all_accuracies_random_forest = np.zeros(trials)\n",
    "\n",
    "all_accuracies_logistic_regression = np.zeros(trials)\n",
    "\n",
    "folds = 4  \n",
    "fold_part = int(np.floor(X.shape[0] / folds))"
   ]
  },
  {
   "cell_type": "code",
   "execution_count": 30,
   "metadata": {
    "collapsed": false
   },
   "outputs": [
    {
     "name": "stdout",
     "output_type": "stream",
     "text": [
      "0 :   Random Forest:  0.950757575758 , Logistic Regression:  0.939393939394\n",
      "1 :   Random Forest:  0.977272727273 , Logistic Regression:  0.950757575758\n",
      "2 :   Random Forest:  0.973484848485 , Logistic Regression:  0.92803030303\n",
      "3 :   Random Forest:  0.962121212121 , Logistic Regression:  0.954545454545\n",
      "4 :   Random Forest:  0.981060606061 , Logistic Regression:  0.954545454545\n",
      "5 :   Random Forest:  0.969696969697 , Logistic Regression:  0.909090909091\n",
      "6 :   Random Forest:  0.988636363636 , Logistic Regression:  0.924242424242\n",
      "7 :   Random Forest:  0.988636363636 , Logistic Regression:  0.920454545455\n",
      "8 :   Random Forest:  0.962121212121 , Logistic Regression:  0.935606060606\n",
      "9 :   Random Forest:  0.981060606061 , Logistic Regression:  0.935606060606\n",
      "10 :   Random Forest:  0.973484848485 , Logistic Regression:  0.916666666667\n",
      "11 :   Random Forest:  0.981060606061 , Logistic Regression:  0.920454545455\n",
      "12 :   Random Forest:  0.958333333333 , Logistic Regression:  0.935606060606\n",
      "13 :   Random Forest:  0.984848484848 , Logistic Regression:  0.943181818182\n",
      "14 :   Random Forest:  0.981060606061 , Logistic Regression:  0.950757575758\n",
      "15 :   Random Forest:  1.0 , Logistic Regression:  0.962121212121\n",
      "16 :   Random Forest:  0.965909090909 , Logistic Regression:  0.94696969697\n",
      "17 :   Random Forest:  0.977272727273 , Logistic Regression:  0.962121212121\n",
      "18 :   Random Forest:  0.988636363636 , Logistic Regression:  0.920454545455\n",
      "19 :   Random Forest:  0.962121212121 , Logistic Regression:  0.962121212121\n"
     ]
    }
   ],
   "source": [
    "for trial in range(trials):\n",
    "    index_array = np.arange(X.shape[0])\n",
    "    np.random.seed(trial*500 +23)\n",
    "    np.random.shuffle(index_array)\n",
    "    accuracy_random_forest = np.zeros(folds)\n",
    "    accuracy_logistic_regression = np.zeros(folds)\n",
    "    \n",
    "        \n",
    "    \n",
    "    for i in range(folds):\n",
    "        row_idx_train = index_array[np.r_[0: i * fold_part - 0, (i + 1) * fold_part: X.shape[0]]]\n",
    "        Xtrain = X.iloc[row_idx_train[:, ]]\n",
    "        Ytrain = Y.iloc[row_idx_train]\n",
    "\n",
    "        row_idx_test = index_array[i * fold_part: (i + 1) * fold_part]\n",
    "        Xtest = X.iloc[row_idx_test[:, ]]\n",
    "        Ytest = Y.iloc[row_idx_test]\n",
    "\n",
    "        ####RANDOM FOREST####\n",
    "        \n",
    "        # Create a random forest classifier. By convention, clf means 'classifier'\n",
    "        clf = RandomForestClassifier(n_jobs=2, max_depth=20  )\n",
    "\n",
    "        # Train the classifier to take the training features and learn how they relate\n",
    "        # to the training y (the species)\n",
    "        clf.fit(Xtrain, Ytrain)\n",
    "\n",
    "        # output predictions on the remaining data\n",
    "        Y_pred_random_forest = clf.predict(Xtest)\n",
    "        accuracy_random_forest[i] = accuracy_score(np.array(Ytest), Y_pred_random_forest)\n",
    "        ########\n",
    "        \n",
    "        ####Logistic Regression####\n",
    "        \n",
    "        clf2 = LogisticRegression()\n",
    "        clf2.fit(Xtrain,Ytrain)\n",
    "\n",
    "         # output predictions on the remaining data\n",
    "        Y_pred_logistic = clf2.predict(Xtest)\n",
    "        \n",
    "        accuracy_logistic_regression[i] = accuracy_score(np.array(Ytest.ravel()), np.array(Y_pred_logistic))\n",
    "        ########\n",
    "       \n",
    "    \n",
    "    print(trial, \":  \",\"Random Forest: \",np.mean(accuracy_random_forest),\", Logistic Regression: \", np.mean(accuracy_logistic_regression))\n",
    "    table['Train Dataset size'] = Xtrain.shape[0]\n",
    "    table['Test Dataset Size'] = Xtrain.shape[0]\n",
    "    \n",
    "    all_accuracies_random_forest[trial] = np.mean(accuracy_random_forest)\n",
    "    all_accuracies_logistic_regression[trial] = np.mean(accuracy_logistic_regression)"
   ]
  },
  {
   "cell_type": "code",
   "execution_count": 31,
   "metadata": {
    "collapsed": true
   },
   "outputs": [],
   "source": [
    "meanRandomForestAccuracy = np.mean(all_accuracies_random_forest)\n",
    "stddevRandomForestAccuracy = np.std(all_accuracies_random_forest)\n",
    "\n",
    "meanLogisticRegressionAccuracy = np.mean(all_accuracies_logistic_regression)\n",
    "stddevLogisticRegressionAccuracy = np.std(all_accuracies_logistic_regression)"
   ]
  },
  {
   "cell_type": "code",
   "execution_count": 32,
   "metadata": {
    "collapsed": false
   },
   "outputs": [
    {
     "name": "stdout",
     "output_type": "stream",
     "text": [
      "### Logistic Regression ###\n",
      "Accuracy:  0.938636363636\n",
      "Standard Deviation:  0.0161862580449\n"
     ]
    }
   ],
   "source": [
    "print(\"### Logistic Regression ###\")\n",
    "print(\"Accuracy: \", meanLogisticRegressionAccuracy)\n",
    "print(\"Standard Deviation: \", stddevLogisticRegressionAccuracy)"
   ]
  },
  {
   "cell_type": "markdown",
   "metadata": {},
   "source": [
    "#### Logistic Regression\n",
    "\n",
    "Accuracy:  0.938636363636\n",
    "\n",
    "Standard Deviation:  0.0161862580449"
   ]
  },
  {
   "cell_type": "code",
   "execution_count": 33,
   "metadata": {
    "collapsed": false
   },
   "outputs": [
    {
     "name": "stdout",
     "output_type": "stream",
     "text": [
      "### Random Forest ###\n",
      "Accuracy:  0.975378787879\n",
      "Standard Deviation:  0.0120678275167\n"
     ]
    }
   ],
   "source": [
    "print(\"### Random Forest ###\")\n",
    "print(\"Accuracy: \", meanRandomForestAccuracy)\n",
    "print(\"Standard Deviation: \", stddevRandomForestAccuracy)"
   ]
  },
  {
   "cell_type": "markdown",
   "metadata": {},
   "source": [
    "#### Random Forest\n",
    "Accuracy:  0.975378787879\n",
    "\n",
    "Standard Deviation:  0.0120678275167"
   ]
  },
  {
   "cell_type": "markdown",
   "metadata": {},
   "source": [
    "Wooow both are doing very very well !!"
   ]
  },
  {
   "cell_type": "markdown",
   "metadata": {},
   "source": [
    "# More Examinations..."
   ]
  },
  {
   "cell_type": "code",
   "execution_count": 34,
   "metadata": {
    "collapsed": true
   },
   "outputs": [],
   "source": [
    "features = df.columns[1:df.shape[1]]\n",
    "y = df[0]"
   ]
  },
  {
   "cell_type": "code",
   "execution_count": 35,
   "metadata": {
    "collapsed": false
   },
   "outputs": [
    {
     "data": {
      "text/plain": [
       "RandomForestClassifier(bootstrap=True, class_weight=None, criterion='gini',\n",
       "            max_depth=None, max_features='auto', max_leaf_nodes=None,\n",
       "            min_impurity_split=1e-07, min_samples_leaf=1,\n",
       "            min_samples_split=2, min_weight_fraction_leaf=0.0,\n",
       "            n_estimators=10, n_jobs=2, oob_score=False, random_state=None,\n",
       "            verbose=0, warm_start=False)"
      ]
     },
     "execution_count": 35,
     "metadata": {},
     "output_type": "execute_result"
    }
   ],
   "source": [
    "# Create a random forest classifier. By convention, clf means 'classifier'\n",
    "clf = RandomForestClassifier(n_jobs=2)\n",
    "\n",
    "# Train the classifier to take the training features and learn how they relate\n",
    "# to the training y (the species)\n",
    "clf.fit(df[features], y)"
   ]
  },
  {
   "cell_type": "code",
   "execution_count": 36,
   "metadata": {
    "collapsed": false
   },
   "outputs": [],
   "source": [
    "predicted = clf.predict(df[features])"
   ]
  },
  {
   "cell_type": "code",
   "execution_count": 37,
   "metadata": {
    "collapsed": false
   },
   "outputs": [
    {
     "data": {
      "text/plain": [
       "array(['1', '1', '1', '1', '1'], dtype=object)"
      ]
     },
     "execution_count": 37,
     "metadata": {},
     "output_type": "execute_result"
    }
   ],
   "source": [
    "predicted[0:5]"
   ]
  },
  {
   "cell_type": "code",
   "execution_count": 38,
   "metadata": {
    "collapsed": false
   },
   "outputs": [],
   "source": [
    "predicted_probs = clf.predict_proba(df[features])"
   ]
  },
  {
   "cell_type": "code",
   "execution_count": 39,
   "metadata": {
    "collapsed": false
   },
   "outputs": [
    {
     "data": {
      "text/plain": [
       "array([[ 0.1,  0.9],\n",
       "       [ 0.1,  0.9],\n",
       "       [ 0. ,  1. ],\n",
       "       [ 0. ,  1. ],\n",
       "       [ 0. ,  1. ],\n",
       "       [ 0.1,  0.9],\n",
       "       [ 0.1,  0.9],\n",
       "       [ 0. ,  1. ],\n",
       "       [ 0.1,  0.9],\n",
       "       [ 0. ,  1. ]])"
      ]
     },
     "execution_count": 39,
     "metadata": {},
     "output_type": "execute_result"
    }
   ],
   "source": [
    "predicted_probs[:10]"
   ]
  },
  {
   "cell_type": "markdown",
   "metadata": {},
   "source": [
    "# Evaluate classifier"
   ]
  },
  {
   "cell_type": "code",
   "execution_count": 40,
   "metadata": {
    "collapsed": false
   },
   "outputs": [
    {
     "data": {
      "text/html": [
       "<div>\n",
       "<table border=\"1\" class=\"dataframe\">\n",
       "  <thead>\n",
       "    <tr style=\"text-align: right;\">\n",
       "      <th>Predicted</th>\n",
       "      <th>0</th>\n",
       "      <th>1</th>\n",
       "    </tr>\n",
       "    <tr>\n",
       "      <th>Actual</th>\n",
       "      <th></th>\n",
       "      <th></th>\n",
       "    </tr>\n",
       "  </thead>\n",
       "  <tbody>\n",
       "    <tr>\n",
       "      <th>0</th>\n",
       "      <td>53</td>\n",
       "      <td>2</td>\n",
       "    </tr>\n",
       "    <tr>\n",
       "      <th>1</th>\n",
       "      <td>1</td>\n",
       "      <td>211</td>\n",
       "    </tr>\n",
       "  </tbody>\n",
       "</table>\n",
       "</div>"
      ],
      "text/plain": [
       "Predicted   0    1\n",
       "Actual            \n",
       "0          53    2\n",
       "1           1  211"
      ]
     },
     "execution_count": 40,
     "metadata": {},
     "output_type": "execute_result"
    }
   ],
   "source": [
    "# Create confusion matrix\n",
    "pd.crosstab(df[0], predicted, rownames=['Actual'], colnames=['Predicted'])"
   ]
  },
  {
   "cell_type": "code",
   "execution_count": 41,
   "metadata": {
    "collapsed": false
   },
   "outputs": [
    {
     "name": "stdout",
     "output_type": "stream",
     "text": [
      "accuracy:  0.9887640449438202\n"
     ]
    }
   ],
   "source": [
    "print('accuracy: ', accuracy_score(y, predicted))"
   ]
  },
  {
   "cell_type": "code",
   "execution_count": 42,
   "metadata": {
    "collapsed": false
   },
   "outputs": [
    {
     "data": {
      "text/plain": [
       "[(1, 0.0070994559311820275),\n",
       " (2, 0.025781623070008676),\n",
       " (3, 0.029902746914809115),\n",
       " (4, 0.015635486117465191),\n",
       " (5, 0.0045115207373271887),\n",
       " (6, 0.027123256233772507),\n",
       " (7, 0.0091613322216075686),\n",
       " (8, 0.0090961213711069199),\n",
       " (9, 0.030217831100609972),\n",
       " (10, 0.022435677005519135),\n",
       " (11, 0.014998501331797212),\n",
       " (12, 0.023258568747499417),\n",
       " (13, 0.0),\n",
       " (14, 0.014967046594132824),\n",
       " (15, 0.038487393114161772),\n",
       " (16, 0.032747615715042644),\n",
       " (17, 0.020569400984547969),\n",
       " (18, 0.010481482194249136),\n",
       " (19, 0.011718545675223745),\n",
       " (20, 0.008383354597527367),\n",
       " (21, 0.0059843802466066822),\n",
       " (22, 0.0065041969358638884),\n",
       " (23, 0.013103696965678244),\n",
       " (24, 0.020425388457935949),\n",
       " (25, 0.028710214757173148),\n",
       " (26, 0.033334893768272783),\n",
       " (27, 0.022139103859055105),\n",
       " (28, 0.013852802412795313),\n",
       " (29, 0.014897856687581063),\n",
       " (30, 0.028478327955344024),\n",
       " (31, 0.02080712920360353),\n",
       " (32, 0.036219602127013119),\n",
       " (33, 0.066568534261240625),\n",
       " (34, 0.037104166780454265),\n",
       " (35, 0.015172608350232718),\n",
       " (36, 0.012969343364950679),\n",
       " (37, 0.0097493986734645093),\n",
       " (38, 0.021350469725115895),\n",
       " (39, 0.062819476495255988),\n",
       " (40, 0.058363981513831431),\n",
       " (41, 0.020414107398149028),\n",
       " (42, 0.029694244158821805),\n",
       " (43, 0.043316339174641491),\n",
       " (44, 0.021442777069328289)]"
      ]
     },
     "execution_count": 42,
     "metadata": {},
     "output_type": "execute_result"
    }
   ],
   "source": [
    "# View a list of the features and their importance scores\n",
    "list(zip(df[features], clf.feature_importances_))"
   ]
  },
  {
   "cell_type": "markdown",
   "metadata": {},
   "source": [
    "we can take the features that have high imortance score, In this way we can reduce our computations and still get a good results"
   ]
  },
  {
   "cell_type": "markdown",
   "metadata": {},
   "source": [
    "# Real Estate Data"
   ]
  },
  {
   "cell_type": "code",
   "execution_count": 43,
   "metadata": {
    "collapsed": false
   },
   "outputs": [],
   "source": [
    "dff = pd.read_csv(\"yerevan_april_9.csv\") "
   ]
  },
  {
   "cell_type": "code",
   "execution_count": 44,
   "metadata": {
    "collapsed": false
   },
   "outputs": [
    {
     "data": {
      "text/html": [
       "<div>\n",
       "<table border=\"1\" class=\"dataframe\">\n",
       "  <thead>\n",
       "    <tr style=\"text-align: right;\">\n",
       "      <th></th>\n",
       "      <th>Unnamed: 0</th>\n",
       "      <th>price</th>\n",
       "      <th>condition</th>\n",
       "      <th>district</th>\n",
       "      <th>max_floor</th>\n",
       "      <th>street</th>\n",
       "      <th>num_rooms</th>\n",
       "      <th>region</th>\n",
       "      <th>area</th>\n",
       "      <th>url</th>\n",
       "      <th>num_bathrooms</th>\n",
       "      <th>building_type</th>\n",
       "      <th>floor</th>\n",
       "      <th>ceiling_height</th>\n",
       "    </tr>\n",
       "  </thead>\n",
       "  <tbody>\n",
       "    <tr>\n",
       "      <th>0</th>\n",
       "      <td>0</td>\n",
       "      <td>65000.0</td>\n",
       "      <td>good</td>\n",
       "      <td>Center</td>\n",
       "      <td>9</td>\n",
       "      <td>Vardanants St</td>\n",
       "      <td>3</td>\n",
       "      <td>Yerevan</td>\n",
       "      <td>80.0</td>\n",
       "      <td>http://www.myrealty.am/en/item/24032/3-senyaka...</td>\n",
       "      <td>1</td>\n",
       "      <td>panel</td>\n",
       "      <td>4</td>\n",
       "      <td>2.8</td>\n",
       "    </tr>\n",
       "    <tr>\n",
       "      <th>1</th>\n",
       "      <td>1</td>\n",
       "      <td>140000.0</td>\n",
       "      <td>newly repaired</td>\n",
       "      <td>Arabkir</td>\n",
       "      <td>10</td>\n",
       "      <td>Hr.Kochar St</td>\n",
       "      <td>4</td>\n",
       "      <td>Yerevan</td>\n",
       "      <td>115.0</td>\n",
       "      <td>http://www.myrealty.am/en/item/17599/4-senyaka...</td>\n",
       "      <td>1</td>\n",
       "      <td>monolit</td>\n",
       "      <td>2</td>\n",
       "      <td>3.0</td>\n",
       "    </tr>\n",
       "    <tr>\n",
       "      <th>2</th>\n",
       "      <td>2</td>\n",
       "      <td>97000.0</td>\n",
       "      <td>newly repaired</td>\n",
       "      <td>Center</td>\n",
       "      <td>10</td>\n",
       "      <td>Teryan St</td>\n",
       "      <td>2</td>\n",
       "      <td>Yerevan</td>\n",
       "      <td>72.0</td>\n",
       "      <td>http://www.myrealty.am/en/item/29472/2-senyaka...</td>\n",
       "      <td>1</td>\n",
       "      <td>panel</td>\n",
       "      <td>3</td>\n",
       "      <td>2.8</td>\n",
       "    </tr>\n",
       "    <tr>\n",
       "      <th>3</th>\n",
       "      <td>3</td>\n",
       "      <td>47000.0</td>\n",
       "      <td>good</td>\n",
       "      <td>Center</td>\n",
       "      <td>9</td>\n",
       "      <td>D. Demirchyan St</td>\n",
       "      <td>1</td>\n",
       "      <td>Yerevan</td>\n",
       "      <td>43.0</td>\n",
       "      <td>http://www.myrealty.am/en/item/37186/1-senyaka...</td>\n",
       "      <td>1</td>\n",
       "      <td>panel</td>\n",
       "      <td>9</td>\n",
       "      <td>2.8</td>\n",
       "    </tr>\n",
       "    <tr>\n",
       "      <th>4</th>\n",
       "      <td>4</td>\n",
       "      <td>51000.0</td>\n",
       "      <td>newly repaired</td>\n",
       "      <td>Center</td>\n",
       "      <td>14</td>\n",
       "      <td>Sayat Nova Ave</td>\n",
       "      <td>1</td>\n",
       "      <td>Yerevan</td>\n",
       "      <td>33.0</td>\n",
       "      <td>http://www.myrealty.am/en/item/37184/1-senyaka...</td>\n",
       "      <td>1</td>\n",
       "      <td>other</td>\n",
       "      <td>4</td>\n",
       "      <td>2.8</td>\n",
       "    </tr>\n",
       "  </tbody>\n",
       "</table>\n",
       "</div>"
      ],
      "text/plain": [
       "   Unnamed: 0     price       condition district  max_floor            street  \\\n",
       "0           0   65000.0            good   Center          9     Vardanants St   \n",
       "1           1  140000.0  newly repaired  Arabkir         10      Hr.Kochar St   \n",
       "2           2   97000.0  newly repaired   Center         10         Teryan St   \n",
       "3           3   47000.0            good   Center          9  D. Demirchyan St   \n",
       "4           4   51000.0  newly repaired   Center         14    Sayat Nova Ave   \n",
       "\n",
       "   num_rooms   region   area  \\\n",
       "0          3  Yerevan   80.0   \n",
       "1          4  Yerevan  115.0   \n",
       "2          2  Yerevan   72.0   \n",
       "3          1  Yerevan   43.0   \n",
       "4          1  Yerevan   33.0   \n",
       "\n",
       "                                                 url  num_bathrooms  \\\n",
       "0  http://www.myrealty.am/en/item/24032/3-senyaka...              1   \n",
       "1  http://www.myrealty.am/en/item/17599/4-senyaka...              1   \n",
       "2  http://www.myrealty.am/en/item/29472/2-senyaka...              1   \n",
       "3  http://www.myrealty.am/en/item/37186/1-senyaka...              1   \n",
       "4  http://www.myrealty.am/en/item/37184/1-senyaka...              1   \n",
       "\n",
       "  building_type  floor  ceiling_height  \n",
       "0         panel      4             2.8  \n",
       "1       monolit      2             3.0  \n",
       "2         panel      3             2.8  \n",
       "3         panel      9             2.8  \n",
       "4         other      4             2.8  "
      ]
     },
     "execution_count": 44,
     "metadata": {},
     "output_type": "execute_result"
    }
   ],
   "source": [
    "dff.head()"
   ]
  },
  {
   "cell_type": "code",
   "execution_count": 45,
   "metadata": {
    "collapsed": false,
    "scrolled": true
   },
   "outputs": [
    {
     "data": {
      "text/plain": [
       "['Unnamed: 0',\n",
       " 'price',\n",
       " 'condition',\n",
       " 'district',\n",
       " 'max_floor',\n",
       " 'street',\n",
       " 'num_rooms',\n",
       " 'region',\n",
       " 'area',\n",
       " 'url',\n",
       " 'num_bathrooms',\n",
       " 'building_type',\n",
       " 'floor',\n",
       " 'ceiling_height']"
      ]
     },
     "execution_count": 45,
     "metadata": {},
     "output_type": "execute_result"
    }
   ],
   "source": [
    "list(dff)"
   ]
  },
  {
   "cell_type": "code",
   "execution_count": 46,
   "metadata": {
    "collapsed": false
   },
   "outputs": [],
   "source": [
    "dff = dff.drop(['Unnamed: 0'], axis = 1)"
   ]
  },
  {
   "cell_type": "code",
   "execution_count": 47,
   "metadata": {
    "collapsed": false
   },
   "outputs": [
    {
     "data": {
      "text/plain": [
       "['price',\n",
       " 'condition',\n",
       " 'district',\n",
       " 'max_floor',\n",
       " 'street',\n",
       " 'num_rooms',\n",
       " 'region',\n",
       " 'area',\n",
       " 'url',\n",
       " 'num_bathrooms',\n",
       " 'building_type',\n",
       " 'floor',\n",
       " 'ceiling_height']"
      ]
     },
     "execution_count": 47,
     "metadata": {},
     "output_type": "execute_result"
    }
   ],
   "source": [
    "list(dff)"
   ]
  },
  {
   "cell_type": "code",
   "execution_count": 48,
   "metadata": {
    "collapsed": false
   },
   "outputs": [],
   "source": [
    "dff = dff.drop(['url'], axis = 1)\n",
    "dff = dff.drop(['region'], axis = 1)"
   ]
  },
  {
   "cell_type": "code",
   "execution_count": 49,
   "metadata": {
    "collapsed": false
   },
   "outputs": [
    {
     "data": {
      "text/plain": [
       "(6234, 11)"
      ]
     },
     "execution_count": 49,
     "metadata": {},
     "output_type": "execute_result"
    }
   ],
   "source": [
    "dff.shape"
   ]
  },
  {
   "cell_type": "code",
   "execution_count": 50,
   "metadata": {
    "collapsed": false
   },
   "outputs": [
    {
     "data": {
      "text/html": [
       "<div>\n",
       "<table border=\"1\" class=\"dataframe\">\n",
       "  <thead>\n",
       "    <tr style=\"text-align: right;\">\n",
       "      <th></th>\n",
       "      <th>price</th>\n",
       "      <th>max_floor</th>\n",
       "      <th>num_rooms</th>\n",
       "      <th>area</th>\n",
       "      <th>num_bathrooms</th>\n",
       "      <th>floor</th>\n",
       "      <th>ceiling_height</th>\n",
       "    </tr>\n",
       "  </thead>\n",
       "  <tbody>\n",
       "    <tr>\n",
       "      <th>count</th>\n",
       "      <td>6234.000000</td>\n",
       "      <td>6234.000000</td>\n",
       "      <td>6234.000000</td>\n",
       "      <td>6234.000000</td>\n",
       "      <td>6234.000000</td>\n",
       "      <td>6234.000000</td>\n",
       "      <td>6234.000000</td>\n",
       "    </tr>\n",
       "    <tr>\n",
       "      <th>mean</th>\n",
       "      <td>86190.637151</td>\n",
       "      <td>8.760507</td>\n",
       "      <td>2.694899</td>\n",
       "      <td>81.607154</td>\n",
       "      <td>1.167148</td>\n",
       "      <td>5.190728</td>\n",
       "      <td>2.895797</td>\n",
       "    </tr>\n",
       "    <tr>\n",
       "      <th>std</th>\n",
       "      <td>52165.737360</td>\n",
       "      <td>4.168007</td>\n",
       "      <td>0.826298</td>\n",
       "      <td>24.809064</td>\n",
       "      <td>0.409621</td>\n",
       "      <td>3.412264</td>\n",
       "      <td>0.145520</td>\n",
       "    </tr>\n",
       "    <tr>\n",
       "      <th>min</th>\n",
       "      <td>18500.000000</td>\n",
       "      <td>1.000000</td>\n",
       "      <td>1.000000</td>\n",
       "      <td>27.000000</td>\n",
       "      <td>1.000000</td>\n",
       "      <td>0.000000</td>\n",
       "      <td>2.600000</td>\n",
       "    </tr>\n",
       "    <tr>\n",
       "      <th>25%</th>\n",
       "      <td>50000.000000</td>\n",
       "      <td>5.000000</td>\n",
       "      <td>2.000000</td>\n",
       "      <td>65.000000</td>\n",
       "      <td>1.000000</td>\n",
       "      <td>3.000000</td>\n",
       "      <td>2.800000</td>\n",
       "    </tr>\n",
       "    <tr>\n",
       "      <th>50%</th>\n",
       "      <td>70000.000000</td>\n",
       "      <td>9.000000</td>\n",
       "      <td>3.000000</td>\n",
       "      <td>80.000000</td>\n",
       "      <td>1.000000</td>\n",
       "      <td>4.000000</td>\n",
       "      <td>2.800000</td>\n",
       "    </tr>\n",
       "    <tr>\n",
       "      <th>75%</th>\n",
       "      <td>107000.000000</td>\n",
       "      <td>12.000000</td>\n",
       "      <td>3.000000</td>\n",
       "      <td>97.000000</td>\n",
       "      <td>1.000000</td>\n",
       "      <td>7.000000</td>\n",
       "      <td>3.000000</td>\n",
       "    </tr>\n",
       "    <tr>\n",
       "      <th>max</th>\n",
       "      <td>550000.000000</td>\n",
       "      <td>24.000000</td>\n",
       "      <td>6.000000</td>\n",
       "      <td>149.000000</td>\n",
       "      <td>4.000000</td>\n",
       "      <td>22.000000</td>\n",
       "      <td>3.800000</td>\n",
       "    </tr>\n",
       "  </tbody>\n",
       "</table>\n",
       "</div>"
      ],
      "text/plain": [
       "               price    max_floor    num_rooms         area  num_bathrooms  \\\n",
       "count    6234.000000  6234.000000  6234.000000  6234.000000    6234.000000   \n",
       "mean    86190.637151     8.760507     2.694899    81.607154       1.167148   \n",
       "std     52165.737360     4.168007     0.826298    24.809064       0.409621   \n",
       "min     18500.000000     1.000000     1.000000    27.000000       1.000000   \n",
       "25%     50000.000000     5.000000     2.000000    65.000000       1.000000   \n",
       "50%     70000.000000     9.000000     3.000000    80.000000       1.000000   \n",
       "75%    107000.000000    12.000000     3.000000    97.000000       1.000000   \n",
       "max    550000.000000    24.000000     6.000000   149.000000       4.000000   \n",
       "\n",
       "             floor  ceiling_height  \n",
       "count  6234.000000     6234.000000  \n",
       "mean      5.190728        2.895797  \n",
       "std       3.412264        0.145520  \n",
       "min       0.000000        2.600000  \n",
       "25%       3.000000        2.800000  \n",
       "50%       4.000000        2.800000  \n",
       "75%       7.000000        3.000000  \n",
       "max      22.000000        3.800000  "
      ]
     },
     "execution_count": 50,
     "metadata": {},
     "output_type": "execute_result"
    }
   ],
   "source": [
    "dff.describe()"
   ]
  },
  {
   "cell_type": "code",
   "execution_count": 51,
   "metadata": {
    "collapsed": false
   },
   "outputs": [
    {
     "data": {
      "text/plain": [
       "count      6234.000000\n",
       "mean      86190.637151\n",
       "std       52165.737360\n",
       "min       18500.000000\n",
       "25%       50000.000000\n",
       "50%       70000.000000\n",
       "75%      107000.000000\n",
       "max      550000.000000\n",
       "Name: price, dtype: float64"
      ]
     },
     "execution_count": 51,
     "metadata": {},
     "output_type": "execute_result"
    }
   ],
   "source": [
    "dff['price'].describe()"
   ]
  },
  {
   "cell_type": "code",
   "execution_count": 52,
   "metadata": {
    "collapsed": false
   },
   "outputs": [
    {
     "data": {
      "text/plain": [
       "False"
      ]
     },
     "execution_count": 52,
     "metadata": {},
     "output_type": "execute_result"
    }
   ],
   "source": [
    "any(dff['price'].isnull())"
   ]
  },
  {
   "cell_type": "code",
   "execution_count": 53,
   "metadata": {
    "collapsed": false
   },
   "outputs": [
    {
     "name": "stdout",
     "output_type": "stream",
     "text": [
      "price column: has NaN values: False\n",
      "condition column: has NaN values: False\n",
      "district column: has NaN values: False\n",
      "max_floor column: has NaN values: False\n",
      "street column: has NaN values: False\n",
      "num_rooms column: has NaN values: False\n",
      "area column: has NaN values: False\n",
      "num_bathrooms column: has NaN values: False\n",
      "building_type column: has NaN values: False\n",
      "floor column: has NaN values: False\n",
      "ceiling_height column: has NaN values: False\n"
     ]
    }
   ],
   "source": [
    "for i in list(dff):\n",
    "    print(i, \"column: has NaN values:\",any(dff[i].isnull()))"
   ]
  },
  {
   "cell_type": "markdown",
   "metadata": {},
   "source": [
    "we don't have null values in the data"
   ]
  },
  {
   "cell_type": "markdown",
   "metadata": {},
   "source": [
    "# Data Graphically:"
   ]
  },
  {
   "cell_type": "code",
   "execution_count": null,
   "metadata": {
    "collapsed": false
   },
   "outputs": [],
   "source": [
    "# specifies the parameters of our graphs\n",
    "fig = plt.figure(figsize=(18,6), dpi=1600) \n",
    "alpha=alpha_scatterplot = 0.2 \n",
    "alpha_bar_chart = 0.55\n",
    "\n",
    "dff.building_type.value_counts().plot(kind='bar', alpha=alpha_bar_chart, fontsize =20)\n",
    "\n",
    "# puts a title on our graph\n",
    "plt.title(\"Building Type\", fontsize =22)    \n",
    "plt.show()"
   ]
  },
  {
   "cell_type": "code",
   "execution_count": null,
   "metadata": {
    "collapsed": false
   },
   "outputs": [],
   "source": [
    "list(dff)"
   ]
  },
  {
   "cell_type": "code",
   "execution_count": null,
   "metadata": {
    "collapsed": false
   },
   "outputs": [],
   "source": [
    "dff.head()"
   ]
  },
  {
   "cell_type": "markdown",
   "metadata": {},
   "source": [
    "# Random Forest"
   ]
  },
  {
   "cell_type": "markdown",
   "metadata": {},
   "source": [
    "Doing it another way:"
   ]
  },
  {
   "cell_type": "code",
   "execution_count": null,
   "metadata": {
    "collapsed": true
   },
   "outputs": [],
   "source": [
    "# Create an acceptable formula:\n",
    "formula_ml = 'price ~ C(condition) + C(district) + max_floor + C(street)  + num_rooms  +num_bathrooms +  C(building_type) + floor + ceiling_height' "
   ]
  },
  {
   "cell_type": "code",
   "execution_count": null,
   "metadata": {
    "collapsed": false
   },
   "outputs": [],
   "source": [
    "# import the machine learning library that holds the randomforest\n",
    "import sklearn.ensemble as ske\n",
    "\n",
    "# Create the random forest model and fit the model to our training data\n",
    "y, x = dmatrices(formula_ml, data=dff, return_type='dataframe')\n",
    "\n",
    "# RandomForestClassifier expects a 1 demensional NumPy array, so we convert\n",
    "y = np.asarray(y).ravel()\n",
    "#instantiate and fit our model\n",
    "results_rf = ske.RandomForestClassifier(n_estimators=100).fit(x, y)\n",
    "\n",
    "# Score the results\n",
    "score = results_rf.score(x, y)\n",
    "print(\"Mean accuracy of Random Forest Predictions on the data was:\\n {0}\".format(score))"
   ]
  },
  {
   "cell_type": "markdown",
   "metadata": {},
   "source": [
    "It should be done in linear regression, I am not sure how it is doing well with Random Forest :D "
   ]
  },
  {
   "cell_type": "markdown",
   "metadata": {},
   "source": [
    "# THE END"
   ]
  }
 ],
 "metadata": {
  "kernelspec": {
   "display_name": "Python 3",
   "language": "python",
   "name": "python3"
  },
  "language_info": {
   "codemirror_mode": {
    "name": "ipython",
    "version": 3
   },
   "file_extension": ".py",
   "mimetype": "text/x-python",
   "name": "python",
   "nbconvert_exporter": "python",
   "pygments_lexer": "ipython3",
   "version": "3.6.0"
  }
 },
 "nbformat": 4,
 "nbformat_minor": 2
}
