{
 "cells": [
  {
   "cell_type": "markdown",
   "metadata": {},
   "source": [
    "# Setup"
   ]
  },
  {
   "cell_type": "code",
   "execution_count": 1,
   "metadata": {
    "collapsed": true
   },
   "outputs": [],
   "source": [
    "import numpy as np"
   ]
  },
  {
   "cell_type": "code",
   "execution_count": 2,
   "metadata": {
    "collapsed": false
   },
   "outputs": [],
   "source": [
    "import dtOmitted\n",
    "from decision_tree import DecisionTree"
   ]
  },
  {
   "cell_type": "markdown",
   "metadata": {},
   "source": [
    "# Data"
   ]
  },
  {
   "cell_type": "code",
   "execution_count": 3,
   "metadata": {
    "collapsed": false
   },
   "outputs": [],
   "source": [
    "filename = 'data/SPECTF.dat'\n",
    "data = np.loadtxt(filename, delimiter=',')\n",
    "X = data[:, 1:]\n",
    "Y = np.array([data[:, 0]]).T"
   ]
  },
  {
   "cell_type": "markdown",
   "metadata": {},
   "source": [
    "# Accuracy:"
   ]
  },
  {
   "cell_type": "code",
   "execution_count": 4,
   "metadata": {
    "collapsed": true
   },
   "outputs": [],
   "source": [
    "def accuracy_score(Y_true, Y_predict):\n",
    "    res = 0\n",
    "    for i in range(len(Y_true)):\n",
    "        if Y_true[i] == Y_predict[i]:\n",
    "            res = res+ 1\n",
    "    return res / len(Y_true)"
   ]
  },
  {
   "cell_type": "markdown",
   "metadata": {},
   "source": [
    "# Decision Tree"
   ]
  },
  {
   "cell_type": "code",
   "execution_count": 11,
   "metadata": {
    "collapsed": false
   },
   "outputs": [],
   "source": [
    "trials = 10\n",
    "all_accuracies = np.zeros(trials)"
   ]
  },
  {
   "cell_type": "code",
   "execution_count": 12,
   "metadata": {
    "collapsed": true
   },
   "outputs": [],
   "source": [
    "folds = 10  \n",
    "fold_part = int(np.floor(X.shape[0] / folds))"
   ]
  },
  {
   "cell_type": "code",
   "execution_count": 13,
   "metadata": {
    "collapsed": false
   },
   "outputs": [],
   "source": [
    "for trial in range(trials):\n",
    "    index_array = np.arange(X.shape[0])\n",
    "    np.random.shuffle(index_array)\n",
    "    accuracy = np.zeros(folds)\n",
    "    stdd = np.zeros(folds)\n",
    "    \n",
    "    for i in range(folds):\n",
    "        row_idx_train = index_array[np.r_[0: i * fold_part - 0, (i + 1) * fold_part: X.shape[0]]]\n",
    "        Xtrain = X[row_idx_train[:, ], :]\n",
    "        Ytrain = Y[row_idx_train]\n",
    "\n",
    "        row_idx_test = index_array[i * fold_part: (i + 1) * fold_part]\n",
    "        Xtest = X[row_idx_test[:, ], :]\n",
    "        Ytest = Y[row_idx_test]\n",
    "\n",
    "        classifier = DecisionTree(100)    \n",
    "        classifier.fit(Xtrain, Ytrain)\n",
    "        \n",
    "        Y_pred = classifier.predict(Xtest)     \n",
    "        \n",
    "        Y_pred = classifier.predict(Xtest)\n",
    "        accuracy[i] = accuracy_score(Ytest, Y_pred)\n",
    "        \n",
    "    all_accuracies[trial] = np.mean(accuracy)"
   ]
  },
  {
   "cell_type": "code",
   "execution_count": 14,
   "metadata": {
    "collapsed": true
   },
   "outputs": [],
   "source": [
    "meanDecisionTreeAccuracy = np.mean(all_accuracies)\n",
    "stddevDecisionTreeAccuracy = np.std(all_accuracies)"
   ]
  },
  {
   "cell_type": "code",
   "execution_count": 15,
   "metadata": {
    "collapsed": false
   },
   "outputs": [
    {
     "name": "stdout",
     "output_type": "stream",
     "text": [
      "0.747692307692\n",
      "0.01624516314\n"
     ]
    }
   ],
   "source": [
    "print(meanDecisionTreeAccuracy)\n",
    "print(stddevDecisionTreeAccuracy)"
   ]
  },
  {
   "cell_type": "markdown",
   "metadata": {},
   "source": [
    "#### Decision Tree\n",
    "Accuracy: 0.747692307692\n",
    "\n",
    "Standard Deviation: 0.01624516314"
   ]
  }
 ],
 "metadata": {
  "kernelspec": {
   "display_name": "Python 3",
   "language": "python",
   "name": "python3"
  },
  "language_info": {
   "codemirror_mode": {
    "name": "ipython",
    "version": 3
   },
   "file_extension": ".py",
   "mimetype": "text/x-python",
   "name": "python",
   "nbconvert_exporter": "python",
   "pygments_lexer": "ipython3",
   "version": "3.6.0"
  }
 },
 "nbformat": 4,
 "nbformat_minor": 2
}
