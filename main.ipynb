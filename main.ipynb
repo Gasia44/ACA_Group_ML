{
 "cells": [
  {
   "cell_type": "markdown",
   "metadata": {},
   "source": [
    "# Random Forest and Logistic Regression\n",
    "We use the data of Canses forecast. Features are medical data of patient. Labels are in first column and correspond do a patient has canser or not (0,1).\n",
    "\n",
    "Clicking \"Ran All\", below second cell you will see first 5 rows of data. Below the last cell you will see accuracies of Random Forest and Logistic Regression prediction methods."
   ]
  },
  {
   "cell_type": "code",
   "execution_count": 1,
   "metadata": {
    "collapsed": true
   },
   "outputs": [],
   "source": [
    "import numpy as np\n",
    "import matplotlib.pyplot as plt\n",
    "import random\n",
    "from logistic_regression import gradient_descent\n",
    "from random_forest import RandomForest"
   ]
  },
  {
   "cell_type": "code",
   "execution_count": 2,
   "metadata": {},
   "outputs": [
    {
     "name": "stdout",
     "output_type": "stream",
     "text": [
      "Data\n",
      "[[  1.  59.  52.  70.  67.  73.  66.  72.  61.  58.  52.  72.  71.  70.\n",
      "   77.  66.  65.  67.  55.  61.  57.  68.  66.  72.  74.  63.  64.  56.\n",
      "   54.  67.  54.  76.  74.  65.  67.  66.  56.  62.  56.  72.  62.  74.\n",
      "   74.  64.  67.]\n",
      " [  1.  72.  62.  69.  67.  78.  82.  74.  65.  69.  63.  70.  70.  72.\n",
      "   74.  70.  71.  72.  75.  66.  65.  73.  78.  74.  79.  74.  69.  69.\n",
      "   70.  71.  69.  72.  70.  62.  65.  65.  71.  63.  60.  69.  73.  67.\n",
      "   71.  56.  58.]\n",
      " [  1.  71.  62.  70.  64.  67.  64.  79.  65.  70.  69.  72.  71.  68.\n",
      "   65.  61.  61.  73.  71.  75.  74.  80.  74.  54.  47.  53.  37.  77.\n",
      "   68.  72.  59.  72.  68.  60.  60.  73.  70.  66.  65.  64.  55.  61.\n",
      "   41.  51.  46.]\n",
      " [  1.  69.  71.  70.  78.  61.  63.  67.  65.  59.  59.  66.  69.  71.\n",
      "   75.  65.  58.  60.  55.  62.  59.  67.  66.  74.  74.  64.  60.  57.\n",
      "   54.  70.  73.  69.  76.  62.  64.  61.  61.  66.  65.  72.  73.  68.\n",
      "   68.  59.  63.]\n",
      " [  1.  70.  66.  61.  66.  61.  58.  69.  69.  72.  68.  62.  71.  71.\n",
      "   71.  63.  59.  74.  75.  70.  69.  83.  77.  73.  70.  41.  37.  39.\n",
      "   40.  58.  46.  75.  73.  65.  66.  67.  69.  70.  66.  70.  64.  60.\n",
      "   55.  49.  41.]]\n"
     ]
    }
   ],
   "source": [
    "def accuracy_score(Y_true, Y_predict):\n",
    "    \n",
    "    error=0\n",
    "    for i in range(len(Y_predict)):\n",
    "        if Y_true[i] != Y_predict[i]:\n",
    "            error = error + 1\n",
    "    error= error*100/len(Y_predict)\n",
    "    return 100-error\n",
    "\n",
    "\n",
    "# Load Data\n",
    "filename = 'SPECTF.dat'\n",
    "data = np.loadtxt(filename, delimiter=',')\n",
    "X = data[:, 1:]\n",
    "y = np.array([data[:, 0]]).T\n",
    "n, d = X.shape\n",
    "\n",
    "print(\"Data\")\n",
    "print(data[:5])\n",
    "\n",
    "all_accuracies=[]\n",
    "all_log_accuracies=[]\n",
    "all_rand_accuracies=[]\n",
    "\n",
    "for trial in range(7):\n",
    "    #divide data to train and test\n",
    "    select = list(range(n))\n",
    "    random.shuffle(select)\n",
    "    select_train = np.array(select[0:int(9*n / 10)])\n",
    "    select_test = np.array(select[int(9*n / 10):n])\n",
    "\n",
    "    data_train = data[select_train, :]\n",
    "    data_test = data[select_test, :]\n",
    "\n",
    "    data_train_Y=data_train[:,0]\n",
    "    data_train_X=data_train[:,1:data_train.shape[1]]\n",
    "\n",
    "    data_test_Y=data_test[:,0]\n",
    "    data_test_X=data_test[:,1:data_test.shape[1]]\n",
    "    #END\n",
    "\n",
    "    #Logistic Regression\n",
    "    beta=gradient_descent(data_train_X,data_train_Y)\n",
    "    Y_log_pred=[]\n",
    "    for i in range(data_test_X.shape[0]):\n",
    "        if np.hstack((1,data_test_X[i])).T.dot(beta)>0:\n",
    "            Y_log_pred.append(1)\n",
    "        else:\n",
    "            Y_log_pred.append(0)\n",
    "    log_accuracy=accuracy_score(data_test_Y, Y_log_pred)\n",
    "    all_log_accuracies.append(log_accuracy)\n",
    "    # END\n",
    "\n",
    "    # Random Forest\n",
    "    trees = RandomForest(10,15)\n",
    "    trees.fit(data_train)\n",
    "    predict=trees.predict(data_test)\n",
    "    y_rand_pred = [row[0] for row in predict]\n",
    "\n",
    "    rand_accuracy = accuracy_score(data_test_Y, y_rand_pred)\n",
    "    all_rand_accuracies.append(rand_accuracy)\n",
    "    # END"
   ]
  },
  {
   "cell_type": "code",
   "execution_count": 4,
   "metadata": {},
   "outputs": [
    {
     "name": "stdout",
     "output_type": "stream",
     "text": [
      "Random Forest Tree Accuracy =  78.835978836  ( 3.26159471057 )\n",
      "Logistic Reg. Accuracy =  79.8941798942  ( 11.6882127166 )\n"
     ]
    }
   ],
   "source": [
    "meanLogisticRegressionAccuracy = np.mean(all_log_accuracies)\n",
    "stddevLogisticRegressionAccuracy = np.std(all_log_accuracies)\n",
    "meanRandomForestAccuracy = np.mean(all_rand_accuracies)\n",
    "stddevRandomForestAccuracy = np.std(all_rand_accuracies)\n",
    "\n",
    "# make certain that the return value matches the API specification\n",
    "stats = np.zeros((3, 2))\n",
    "stats[1, 0] = meanRandomForestAccuracy\n",
    "stats[1, 1] = stddevRandomForestAccuracy\n",
    "stats[2, 0] = meanLogisticRegressionAccuracy\n",
    "stats[2, 1] = stddevLogisticRegressionAccuracy\n",
    "\n",
    "print(\"Random Forest Tree Accuracy = \", stats[1, 0], \" (\", stats[1, 1], \")\")\n",
    "print(\"Logistic Reg. Accuracy = \", stats[2, 0], \" (\", stats[2, 1], \")\")"
   ]
  }
 ],
 "metadata": {
  "kernelspec": {
   "display_name": "Python 3",
   "language": "python",
   "name": "python3"
  },
  "language_info": {
   "codemirror_mode": {
    "name": "ipython",
    "version": 3
   },
   "file_extension": ".py",
   "mimetype": "text/x-python",
   "name": "python",
   "nbconvert_exporter": "python",
   "pygments_lexer": "ipython3",
   "version": "3.6.0"
  }
 },
 "nbformat": 4,
 "nbformat_minor": 1
}
