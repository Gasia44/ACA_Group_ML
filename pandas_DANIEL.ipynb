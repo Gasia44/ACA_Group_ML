{
 "cells": [
  {
   "cell_type": "code",
   "execution_count": 1,
   "metadata": {
    "collapsed": false
   },
   "outputs": [
    {
     "name": "stderr",
     "output_type": "stream",
     "text": [
      "/home/daniel/.local/lib/python2.7/site-packages/statsmodels/compat/pandas.py:56: FutureWarning: The pandas.core.datetools module is deprecated and will be removed in a future version. Please use the pandas.tseries module instead.\n",
      "  from pandas.core import datetools\n"
     ]
    }
   ],
   "source": [
    "import matplotlib.pyplot as plt\n",
    "import math\n",
    "%matplotlib inline\n",
    "import numpy as np\n",
    "import pandas as pd\n",
    "import statsmodels.api as sm\n",
    "from statsmodels.nonparametric.kde import KDEUnivariate\n",
    "from statsmodels.nonparametric import smoothers_lowess\n",
    "from pandas import Series, DataFrame\n",
    "from patsy import dmatrices\n",
    "from sklearn import datasets, svm\n",
    "from sklearn.model_selection import train_test_split\n",
    "import predict as ka\n",
    "import sys\n",
    "import logistic_regression\n",
    "from logistic_regression import gradient_descent"
   ]
  },
  {
   "cell_type": "markdown",
   "metadata": {},
   "source": [
    "### Data Handling"
   ]
  },
  {
   "cell_type": "code",
   "execution_count": 2,
   "metadata": {
    "collapsed": false
   },
   "outputs": [],
   "source": [
    "df = pd.read_csv(\"SPECTF.csv\")\n",
    "def accuracy_score(Y_true, Y_predict):\n",
    "    error=0\n",
    "    for i in range(len(Y_predict)):\n",
    "        if Y_true[i] != Y_predict[i]:\n",
    "            error = error + 1\n",
    "    error= float(error)/len(Y_predict)\n",
    "    return 1-error"
   ]
  },
  {
   "cell_type": "code",
   "execution_count": 3,
   "metadata": {
    "collapsed": false
   },
   "outputs": [],
   "source": [
    "formula = 'string0 ~ string1 + string2 + string3 + string4 + string5 + string6 + string7 + string8 + string9 + string10 + string11 + string12 + string13 + string14 + string15 + string16 + string17 + string18 + string19 + string20 + string21 + string22 + string23 + string24 + string25 + string26 + string27 + string28 + string29 + string30 + string31 + string32 + string33 + string34 + string35 + string36 + string37 + string38 + string39 + string40 + string41 + string42 + string43 + string44'\n",
    "results = {}"
   ]
  },
  {
   "cell_type": "markdown",
   "metadata": {},
   "source": [
    "### Logistic Regression"
   ]
  },
  {
   "cell_type": "code",
   "execution_count": 4,
   "metadata": {
    "collapsed": false
   },
   "outputs": [
    {
     "name": "stdout",
     "output_type": "stream",
     "text": [
      "\tAccuracy\n",
      "Lasagne\t\t\tMe\n",
      "0.87037037037\t\t0.759259259259\n",
      "0.62962962963\t\t0.814814814815\n",
      "0.796296296296\t\t0.759259259259\n",
      "0.814814814815\t\t0.722222222222\n",
      "0.851851851852\t\t0.759259259259\n"
     ]
    }
   ],
   "source": [
    "print(\"\\tAccuracy\")\n",
    "print(\"Lasagne\"+\"\\t\\t\\t\"+\"Me\")\n",
    "\n",
    "for i in range(5):\n",
    "    class NullWriter(object):\n",
    "        def write(self, arg):\n",
    "            pass\n",
    "    \n",
    "    oldstdout = sys.stdout\n",
    "    sys.stdout = NullWriter()\n",
    "    \n",
    "    train, test = train_test_split(df, test_size = 0.2)\n",
    "    y,x = dmatrices(formula, data=train, return_type='dataframe')\n",
    "    model = sm.Logit(y,x)\n",
    "    res = model.fit()\n",
    "    results['Logit'] = [res, formula]\n",
    "\n",
    "    compared_resuts = ka.predict(test, results, 'Logit')\n",
    "    compared_resuts = Series(compared_resuts)\n",
    "    for k in range(compared_resuts.size):\n",
    "        if compared_resuts[k]>0:\n",
    "            compared_resuts[k]=1\n",
    "        else:\n",
    "            compared_resuts[k]=0\n",
    "    compared_resuts=np.array(compared_resuts)\n",
    "    true=np.array(test.iloc[:,1])\n",
    "\n",
    "    log_acc=0\n",
    "    for j in range(compared_resuts.size):\n",
    "        if compared_resuts[j]==true[j]:\n",
    "            log_acc=log_acc+1\n",
    "    \n",
    "    sys.stdout = oldstdout\n",
    "    \n",
    "    yt, xt = dmatrices(formula, data=test, return_type='dataframe')\n",
    "    yt = np.asarray(yt).ravel()\n",
    "    \n",
    "    x_feat=np.column_stack((np.ones(np.array(x)[:,1:].shape[0]),np.array(x)[:,1:]))\n",
    "    x_feat_test=np.column_stack((np.ones(np.array(xt)[:,1:].shape[0]),np.array(xt)[:,1:]))\n",
    "    \n",
    "    y = np.asarray(y).ravel()\n",
    "    beta=gradient_descent(x_feat,y)\n",
    "    \n",
    "    y_pred=x_feat_test.dot(beta)\n",
    "    for n in range(y_pred.size):\n",
    "        if y_pred[n]>0:\n",
    "            y_pred[n]=1\n",
    "        else:\n",
    "            y_pred[n]=0\n",
    "    \n",
    "    print(str(float(log_acc)/compared_resuts.size)+\"\\t\\t\"+str(accuracy_score(yt,y_pred)))"
   ]
  },
  {
   "cell_type": "markdown",
   "metadata": {},
   "source": [
    "### Random Forest"
   ]
  },
  {
   "cell_type": "code",
   "execution_count": 5,
   "metadata": {
    "collapsed": false
   },
   "outputs": [
    {
     "name": "stdout",
     "output_type": "stream",
     "text": [
      "\tAccuracy\n",
      "Lasagne\t\tMe\n",
      "0.796296296296\t0.759259259259\n",
      "0.814814814815\t0.833333333333\n",
      "0.814814814815\t0.833333333333\n",
      "0.851851851852\t0.777777777778\n",
      "0.87037037037\t0.796296296296\n"
     ]
    }
   ],
   "source": [
    "import sklearn.ensemble as ske\n",
    "import random_forest\n",
    "from random_forest import RandomForest\n",
    "\n",
    "\n",
    "\n",
    "print(\"\\tAccuracy\")\n",
    "print(\"Lasagne\"+\"\\t\\t\"+\"Me\")\n",
    "for i in range(5):\n",
    "    train, test = train_test_split(df, test_size = 0.2)\n",
    "    y, x = dmatrices(formula, data=train, return_type='dataframe')\n",
    "    y = np.asarray(y).ravel()\n",
    "    \n",
    "    results_rf = ske.RandomForestClassifier(n_estimators=100).fit(x, y)\n",
    "    resilts_rf_my=RandomForest(10,80)\n",
    "    resilts_rf_my.fit(np.array(x))\n",
    "\n",
    "\n",
    "    yt, xt = dmatrices(formula, data=test, return_type='dataframe')\n",
    "    yt = np.asarray(yt).ravel()\n",
    "\n",
    "    predict_my=resilts_rf_my.predict(np.array(xt))\n",
    "\n",
    "    score = results_rf.score(xt, yt)\n",
    "    print \"{}\\t{}\".format(score,accuracy_score(yt,[row[0] for row in predict_my]))"
   ]
  },
  {
   "cell_type": "code",
   "execution_count": null,
   "metadata": {
    "collapsed": true
   },
   "outputs": [],
   "source": []
  }
 ],
 "metadata": {
  "kernelspec": {
   "display_name": "Python 2",
   "language": "python",
   "name": "python2"
  },
  "language_info": {
   "codemirror_mode": {
    "name": "ipython",
    "version": 2
   },
   "file_extension": ".py",
   "mimetype": "text/x-python",
   "name": "python",
   "nbconvert_exporter": "python",
   "pygments_lexer": "ipython2",
   "version": "2.7.13"
  }
 },
 "nbformat": 4,
 "nbformat_minor": 0
}
